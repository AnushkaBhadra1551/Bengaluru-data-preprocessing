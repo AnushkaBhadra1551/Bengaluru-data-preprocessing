{
 "cells": [
  {
   "cell_type": "code",
   "execution_count": 1,
   "metadata": {
    "_cell_guid": "b1076dfc-b9ad-4769-8c92-a6c4dae69d19",
    "_uuid": "8f2839f25d086af736a60e9eeb907d3b93b6e0e5",
    "execution": {
     "iopub.execute_input": "2020-10-13T07:52:12.967293Z",
     "iopub.status.busy": "2020-10-13T07:52:12.966784Z",
     "iopub.status.idle": "2020-10-13T07:52:12.974323Z",
     "shell.execute_reply": "2020-10-13T07:52:12.974805Z"
    },
    "papermill": {
     "duration": 0.050819,
     "end_time": "2020-10-13T07:52:12.974964",
     "exception": false,
     "start_time": "2020-10-13T07:52:12.924145",
     "status": "completed"
    },
    "tags": []
   },
   "outputs": [
    {
     "name": "stdout",
     "output_type": "stream",
     "text": [
      "/kaggle/input/bengaluru-house-price-data/Bengaluru_House_Data.csv\n"
     ]
    }
   ],
   "source": [
    "# This Python 3 environment comes with many helpful analytics libraries installed\n",
    "# It is defined by the kaggle/python Docker image: https://github.com/kaggle/docker-python\n",
    "# For example, here's several helpful packages to load\n",
    "\n",
    "import numpy as np # linear algebra\n",
    "import pandas as pd # data processing, CSV file I/O (e.g. pd.read_csv)\n",
    "\n",
    "# Input data files are available in the read-only \"../input/\" directory\n",
    "# For example, running this (by clicking run or pressing Shift+Enter) will list all files under the input directory\n",
    "\n",
    "import os\n",
    "for dirname, _, filenames in os.walk('/kaggle/input'):\n",
    "    for filename in filenames:\n",
    "        print(os.path.join(dirname, filename))\n",
    "\n",
    "# You can write up to 5GB to the current directory (/kaggle/working/) that gets preserved as output when you create a version using \"Save & Run All\" \n",
    "# You can also write temporary files to /kaggle/temp/, but they won't be saved outside of the current session"
   ]
  },
  {
   "cell_type": "code",
   "execution_count": 2,
   "metadata": {
    "_cell_guid": "79c7e3d0-c299-4dcb-8224-4455121ee9b0",
    "_uuid": "d629ff2d2480ee46fbb7e2d37f6b5fab8052498a",
    "execution": {
     "iopub.execute_input": "2020-10-13T07:52:13.096082Z",
     "iopub.status.busy": "2020-10-13T07:52:13.095605Z",
     "iopub.status.idle": "2020-10-13T07:52:13.148119Z",
     "shell.execute_reply": "2020-10-13T07:52:13.147709Z"
    },
    "papermill": {
     "duration": 0.115791,
     "end_time": "2020-10-13T07:52:13.148228",
     "exception": false,
     "start_time": "2020-10-13T07:52:13.032437",
     "status": "completed"
    },
    "tags": []
   },
   "outputs": [],
   "source": [
    "bengaluru=pd.read_csv('/kaggle/input/bengaluru-house-price-data/Bengaluru_House_Data.csv')"
   ]
  },
  {
   "cell_type": "code",
   "execution_count": 3,
   "metadata": {
    "execution": {
     "iopub.execute_input": "2020-10-13T07:52:13.240381Z",
     "iopub.status.busy": "2020-10-13T07:52:13.234061Z",
     "iopub.status.idle": "2020-10-13T07:52:13.251493Z",
     "shell.execute_reply": "2020-10-13T07:52:13.251008Z"
    },
    "papermill": {
     "duration": 0.066758,
     "end_time": "2020-10-13T07:52:13.251573",
     "exception": false,
     "start_time": "2020-10-13T07:52:13.184815",
     "status": "completed"
    },
    "tags": []
   },
   "outputs": [
    {
     "data": {
      "text/html": [
       "<div>\n",
       "<style scoped>\n",
       "    .dataframe tbody tr th:only-of-type {\n",
       "        vertical-align: middle;\n",
       "    }\n",
       "\n",
       "    .dataframe tbody tr th {\n",
       "        vertical-align: top;\n",
       "    }\n",
       "\n",
       "    .dataframe thead th {\n",
       "        text-align: right;\n",
       "    }\n",
       "</style>\n",
       "<table border=\"1\" class=\"dataframe\">\n",
       "  <thead>\n",
       "    <tr style=\"text-align: right;\">\n",
       "      <th></th>\n",
       "      <th>area_type</th>\n",
       "      <th>availability</th>\n",
       "      <th>location</th>\n",
       "      <th>size</th>\n",
       "      <th>society</th>\n",
       "      <th>total_sqft</th>\n",
       "      <th>bath</th>\n",
       "      <th>balcony</th>\n",
       "      <th>price</th>\n",
       "    </tr>\n",
       "  </thead>\n",
       "  <tbody>\n",
       "    <tr>\n",
       "      <th>8537</th>\n",
       "      <td>Plot  Area</td>\n",
       "      <td>Ready To Move</td>\n",
       "      <td>BTM 4th Stage</td>\n",
       "      <td>1 Bedroom</td>\n",
       "      <td>NaN</td>\n",
       "      <td>600</td>\n",
       "      <td>1.0</td>\n",
       "      <td>0.0</td>\n",
       "      <td>58.00</td>\n",
       "    </tr>\n",
       "    <tr>\n",
       "      <th>11989</th>\n",
       "      <td>Super built-up  Area</td>\n",
       "      <td>Ready To Move</td>\n",
       "      <td>Kanakpura Road</td>\n",
       "      <td>3 BHK</td>\n",
       "      <td>PuandHi</td>\n",
       "      <td>1843</td>\n",
       "      <td>3.0</td>\n",
       "      <td>2.0</td>\n",
       "      <td>95.00</td>\n",
       "    </tr>\n",
       "    <tr>\n",
       "      <th>7537</th>\n",
       "      <td>Plot  Area</td>\n",
       "      <td>Ready To Move</td>\n",
       "      <td>Yediyur</td>\n",
       "      <td>4 Bedroom</td>\n",
       "      <td>NaN</td>\n",
       "      <td>1140</td>\n",
       "      <td>3.0</td>\n",
       "      <td>2.0</td>\n",
       "      <td>225.00</td>\n",
       "    </tr>\n",
       "    <tr>\n",
       "      <th>13132</th>\n",
       "      <td>Plot  Area</td>\n",
       "      <td>Ready To Move</td>\n",
       "      <td>1st Block Koramangala</td>\n",
       "      <td>4 Bedroom</td>\n",
       "      <td>NaN</td>\n",
       "      <td>1200</td>\n",
       "      <td>5.0</td>\n",
       "      <td>1.0</td>\n",
       "      <td>350.00</td>\n",
       "    </tr>\n",
       "    <tr>\n",
       "      <th>12407</th>\n",
       "      <td>Super built-up  Area</td>\n",
       "      <td>Ready To Move</td>\n",
       "      <td>Billekahalli</td>\n",
       "      <td>2 BHK</td>\n",
       "      <td>Raony C</td>\n",
       "      <td>950</td>\n",
       "      <td>2.0</td>\n",
       "      <td>2.0</td>\n",
       "      <td>56.00</td>\n",
       "    </tr>\n",
       "    <tr>\n",
       "      <th>5704</th>\n",
       "      <td>Super built-up  Area</td>\n",
       "      <td>Ready To Move</td>\n",
       "      <td>Attibele</td>\n",
       "      <td>2 BHK</td>\n",
       "      <td>Inenshe</td>\n",
       "      <td>850</td>\n",
       "      <td>1.0</td>\n",
       "      <td>1.0</td>\n",
       "      <td>25.00</td>\n",
       "    </tr>\n",
       "    <tr>\n",
       "      <th>2586</th>\n",
       "      <td>Super built-up  Area</td>\n",
       "      <td>Ready To Move</td>\n",
       "      <td>7th Phase JP Nagar</td>\n",
       "      <td>2 BHK</td>\n",
       "      <td>NaN</td>\n",
       "      <td>1035</td>\n",
       "      <td>2.0</td>\n",
       "      <td>1.0</td>\n",
       "      <td>39.33</td>\n",
       "    </tr>\n",
       "    <tr>\n",
       "      <th>7322</th>\n",
       "      <td>Super built-up  Area</td>\n",
       "      <td>Ready To Move</td>\n",
       "      <td>Hebbal</td>\n",
       "      <td>3 BHK</td>\n",
       "      <td>SNontle</td>\n",
       "      <td>2650</td>\n",
       "      <td>4.0</td>\n",
       "      <td>3.0</td>\n",
       "      <td>199.00</td>\n",
       "    </tr>\n",
       "    <tr>\n",
       "      <th>1756</th>\n",
       "      <td>Plot  Area</td>\n",
       "      <td>Ready To Move</td>\n",
       "      <td>Whitefield</td>\n",
       "      <td>4 Bedroom</td>\n",
       "      <td>NaN</td>\n",
       "      <td>4000</td>\n",
       "      <td>4.0</td>\n",
       "      <td>2.0</td>\n",
       "      <td>330.00</td>\n",
       "    </tr>\n",
       "    <tr>\n",
       "      <th>2430</th>\n",
       "      <td>Built-up  Area</td>\n",
       "      <td>Ready To Move</td>\n",
       "      <td>Ramakrishnappa Layout</td>\n",
       "      <td>3 BHK</td>\n",
       "      <td>PeBayle</td>\n",
       "      <td>2770</td>\n",
       "      <td>3.0</td>\n",
       "      <td>1.0</td>\n",
       "      <td>460.00</td>\n",
       "    </tr>\n",
       "  </tbody>\n",
       "</table>\n",
       "</div>"
      ],
      "text/plain": [
       "                  area_type   availability               location       size  \\\n",
       "8537             Plot  Area  Ready To Move          BTM 4th Stage  1 Bedroom   \n",
       "11989  Super built-up  Area  Ready To Move         Kanakpura Road      3 BHK   \n",
       "7537             Plot  Area  Ready To Move                Yediyur  4 Bedroom   \n",
       "13132            Plot  Area  Ready To Move  1st Block Koramangala  4 Bedroom   \n",
       "12407  Super built-up  Area  Ready To Move           Billekahalli      2 BHK   \n",
       "5704   Super built-up  Area  Ready To Move               Attibele      2 BHK   \n",
       "2586   Super built-up  Area  Ready To Move     7th Phase JP Nagar      2 BHK   \n",
       "7322   Super built-up  Area  Ready To Move                 Hebbal      3 BHK   \n",
       "1756             Plot  Area  Ready To Move             Whitefield  4 Bedroom   \n",
       "2430         Built-up  Area  Ready To Move  Ramakrishnappa Layout      3 BHK   \n",
       "\n",
       "       society total_sqft  bath  balcony   price  \n",
       "8537       NaN        600   1.0      0.0   58.00  \n",
       "11989  PuandHi       1843   3.0      2.0   95.00  \n",
       "7537       NaN       1140   3.0      2.0  225.00  \n",
       "13132      NaN       1200   5.0      1.0  350.00  \n",
       "12407  Raony C        950   2.0      2.0   56.00  \n",
       "5704   Inenshe        850   1.0      1.0   25.00  \n",
       "2586       NaN       1035   2.0      1.0   39.33  \n",
       "7322   SNontle       2650   4.0      3.0  199.00  \n",
       "1756       NaN       4000   4.0      2.0  330.00  \n",
       "2430   PeBayle       2770   3.0      1.0  460.00  "
      ]
     },
     "execution_count": 3,
     "metadata": {},
     "output_type": "execute_result"
    }
   ],
   "source": [
    "bengaluru.sample(10)"
   ]
  },
  {
   "cell_type": "code",
   "execution_count": 4,
   "metadata": {
    "execution": {
     "iopub.execute_input": "2020-10-13T07:52:13.328972Z",
     "iopub.status.busy": "2020-10-13T07:52:13.328531Z",
     "iopub.status.idle": "2020-10-13T07:52:13.331720Z",
     "shell.execute_reply": "2020-10-13T07:52:13.331168Z"
    },
    "papermill": {
     "duration": 0.043444,
     "end_time": "2020-10-13T07:52:13.331800",
     "exception": false,
     "start_time": "2020-10-13T07:52:13.288356",
     "status": "completed"
    },
    "tags": []
   },
   "outputs": [],
   "source": [
    "#Data Preprocessing\n",
    "# 1.Gathering Data [Done]\n",
    "# 2.Accessing Data\n",
    "#       a.Incorrect data types[area_type,availability,size,total_sqft,bath,balcony]\n",
    "#       b.Missing values[location,size,society,bath,balcony]\n",
    "#       c.Outliers present[size,bath]"
   ]
  },
  {
   "cell_type": "code",
   "execution_count": 5,
   "metadata": {
    "execution": {
     "iopub.execute_input": "2020-10-13T07:52:13.411286Z",
     "iopub.status.busy": "2020-10-13T07:52:13.410720Z",
     "iopub.status.idle": "2020-10-13T07:52:13.414574Z",
     "shell.execute_reply": "2020-10-13T07:52:13.414183Z"
    },
    "papermill": {
     "duration": 0.045571,
     "end_time": "2020-10-13T07:52:13.414659",
     "exception": false,
     "start_time": "2020-10-13T07:52:13.369088",
     "status": "completed"
    },
    "tags": []
   },
   "outputs": [
    {
     "data": {
      "text/plain": [
       "(13320, 9)"
      ]
     },
     "execution_count": 5,
     "metadata": {},
     "output_type": "execute_result"
    }
   ],
   "source": [
    "#Shape of the data \n",
    "bengaluru.shape"
   ]
  },
  {
   "cell_type": "code",
   "execution_count": 6,
   "metadata": {
    "execution": {
     "iopub.execute_input": "2020-10-13T07:52:13.495425Z",
     "iopub.status.busy": "2020-10-13T07:52:13.494928Z",
     "iopub.status.idle": "2020-10-13T07:52:13.512900Z",
     "shell.execute_reply": "2020-10-13T07:52:13.513304Z"
    },
    "papermill": {
     "duration": 0.060846,
     "end_time": "2020-10-13T07:52:13.513410",
     "exception": false,
     "start_time": "2020-10-13T07:52:13.452564",
     "status": "completed"
    },
    "tags": []
   },
   "outputs": [
    {
     "name": "stdout",
     "output_type": "stream",
     "text": [
      "<class 'pandas.core.frame.DataFrame'>\n",
      "RangeIndex: 13320 entries, 0 to 13319\n",
      "Data columns (total 9 columns):\n",
      " #   Column        Non-Null Count  Dtype  \n",
      "---  ------        --------------  -----  \n",
      " 0   area_type     13320 non-null  object \n",
      " 1   availability  13320 non-null  object \n",
      " 2   location      13319 non-null  object \n",
      " 3   size          13304 non-null  object \n",
      " 4   society       7818 non-null   object \n",
      " 5   total_sqft    13320 non-null  object \n",
      " 6   bath          13247 non-null  float64\n",
      " 7   balcony       12711 non-null  float64\n",
      " 8   price         13320 non-null  float64\n",
      "dtypes: float64(3), object(6)\n",
      "memory usage: 936.7+ KB\n"
     ]
    }
   ],
   "source": [
    "#Data type of columns\n",
    "bengaluru.info()"
   ]
  },
  {
   "cell_type": "code",
   "execution_count": 7,
   "metadata": {
    "execution": {
     "iopub.execute_input": "2020-10-13T07:52:13.596906Z",
     "iopub.status.busy": "2020-10-13T07:52:13.596431Z",
     "iopub.status.idle": "2020-10-13T07:52:13.603803Z",
     "shell.execute_reply": "2020-10-13T07:52:13.603126Z"
    },
    "papermill": {
     "duration": 0.052796,
     "end_time": "2020-10-13T07:52:13.603908",
     "exception": false,
     "start_time": "2020-10-13T07:52:13.551112",
     "status": "completed"
    },
    "tags": []
   },
   "outputs": [
    {
     "data": {
      "text/plain": [
       "area_type          0\n",
       "availability       0\n",
       "location           1\n",
       "size              16\n",
       "society         5502\n",
       "total_sqft         0\n",
       "bath              73\n",
       "balcony          609\n",
       "price              0\n",
       "dtype: int64"
      ]
     },
     "execution_count": 7,
     "metadata": {},
     "output_type": "execute_result"
    }
   ],
   "source": [
    "#To find the total number of null elements in each column\n",
    "bengaluru.isnull().sum()"
   ]
  },
  {
   "cell_type": "code",
   "execution_count": 8,
   "metadata": {
    "execution": {
     "iopub.execute_input": "2020-10-13T07:52:13.709641Z",
     "iopub.status.busy": "2020-10-13T07:52:13.709002Z",
     "iopub.status.idle": "2020-10-13T07:52:13.728647Z",
     "shell.execute_reply": "2020-10-13T07:52:13.728151Z"
    },
    "papermill": {
     "duration": 0.064971,
     "end_time": "2020-10-13T07:52:13.728727",
     "exception": false,
     "start_time": "2020-10-13T07:52:13.663756",
     "status": "completed"
    },
    "tags": []
   },
   "outputs": [
    {
     "data": {
      "text/html": [
       "<div>\n",
       "<style scoped>\n",
       "    .dataframe tbody tr th:only-of-type {\n",
       "        vertical-align: middle;\n",
       "    }\n",
       "\n",
       "    .dataframe tbody tr th {\n",
       "        vertical-align: top;\n",
       "    }\n",
       "\n",
       "    .dataframe thead th {\n",
       "        text-align: right;\n",
       "    }\n",
       "</style>\n",
       "<table border=\"1\" class=\"dataframe\">\n",
       "  <thead>\n",
       "    <tr style=\"text-align: right;\">\n",
       "      <th></th>\n",
       "      <th>count</th>\n",
       "      <th>mean</th>\n",
       "      <th>std</th>\n",
       "      <th>min</th>\n",
       "      <th>25%</th>\n",
       "      <th>50%</th>\n",
       "      <th>75%</th>\n",
       "      <th>max</th>\n",
       "    </tr>\n",
       "  </thead>\n",
       "  <tbody>\n",
       "    <tr>\n",
       "      <th>bath</th>\n",
       "      <td>13247.0</td>\n",
       "      <td>2.692610</td>\n",
       "      <td>1.341458</td>\n",
       "      <td>1.0</td>\n",
       "      <td>2.0</td>\n",
       "      <td>2.0</td>\n",
       "      <td>3.0</td>\n",
       "      <td>40.0</td>\n",
       "    </tr>\n",
       "    <tr>\n",
       "      <th>balcony</th>\n",
       "      <td>12711.0</td>\n",
       "      <td>1.584376</td>\n",
       "      <td>0.817263</td>\n",
       "      <td>0.0</td>\n",
       "      <td>1.0</td>\n",
       "      <td>2.0</td>\n",
       "      <td>2.0</td>\n",
       "      <td>3.0</td>\n",
       "    </tr>\n",
       "    <tr>\n",
       "      <th>price</th>\n",
       "      <td>13320.0</td>\n",
       "      <td>112.565627</td>\n",
       "      <td>148.971674</td>\n",
       "      <td>8.0</td>\n",
       "      <td>50.0</td>\n",
       "      <td>72.0</td>\n",
       "      <td>120.0</td>\n",
       "      <td>3600.0</td>\n",
       "    </tr>\n",
       "  </tbody>\n",
       "</table>\n",
       "</div>"
      ],
      "text/plain": [
       "           count        mean         std  min   25%   50%    75%     max\n",
       "bath     13247.0    2.692610    1.341458  1.0   2.0   2.0    3.0    40.0\n",
       "balcony  12711.0    1.584376    0.817263  0.0   1.0   2.0    2.0     3.0\n",
       "price    13320.0  112.565627  148.971674  8.0  50.0  72.0  120.0  3600.0"
      ]
     },
     "execution_count": 8,
     "metadata": {},
     "output_type": "execute_result"
    }
   ],
   "source": [
    "#Mathematical columns\n",
    "bengaluru.describe().T"
   ]
  },
  {
   "cell_type": "code",
   "execution_count": 9,
   "metadata": {
    "execution": {
     "iopub.execute_input": "2020-10-13T07:52:13.810598Z",
     "iopub.status.busy": "2020-10-13T07:52:13.809778Z",
     "iopub.status.idle": "2020-10-13T07:52:13.812588Z",
     "shell.execute_reply": "2020-10-13T07:52:13.811974Z"
    },
    "papermill": {
     "duration": 0.045565,
     "end_time": "2020-10-13T07:52:13.812688",
     "exception": false,
     "start_time": "2020-10-13T07:52:13.767123",
     "status": "completed"
    },
    "tags": []
   },
   "outputs": [],
   "source": [
    "# 1. Location"
   ]
  },
  {
   "cell_type": "code",
   "execution_count": 10,
   "metadata": {
    "execution": {
     "iopub.execute_input": "2020-10-13T07:52:13.939017Z",
     "iopub.status.busy": "2020-10-13T07:52:13.938346Z",
     "iopub.status.idle": "2020-10-13T07:52:13.942530Z",
     "shell.execute_reply": "2020-10-13T07:52:13.943097Z"
    },
    "papermill": {
     "duration": 0.071877,
     "end_time": "2020-10-13T07:52:13.943257",
     "exception": false,
     "start_time": "2020-10-13T07:52:13.871380",
     "status": "completed"
    },
    "tags": []
   },
   "outputs": [
    {
     "data": {
      "text/plain": [
       "Whitefield            540\n",
       "Sarjapur  Road        399\n",
       "Electronic City       302\n",
       "Kanakpura Road        273\n",
       "Thanisandra           234\n",
       "                     ... \n",
       "Duvasapalya             1\n",
       "Queens Road             1\n",
       "singapura paradise      1\n",
       "Richmond Road           1\n",
       "MRCR Layout             1\n",
       "Name: location, Length: 1305, dtype: int64"
      ]
     },
     "execution_count": 10,
     "metadata": {},
     "output_type": "execute_result"
    }
   ],
   "source": [
    "bengaluru['location'].value_counts()"
   ]
  },
  {
   "cell_type": "code",
   "execution_count": 11,
   "metadata": {
    "execution": {
     "iopub.execute_input": "2020-10-13T07:52:14.066958Z",
     "iopub.status.busy": "2020-10-13T07:52:14.065931Z",
     "iopub.status.idle": "2020-10-13T07:52:14.070149Z",
     "shell.execute_reply": "2020-10-13T07:52:14.069615Z"
    },
    "papermill": {
     "duration": 0.06777,
     "end_time": "2020-10-13T07:52:14.070269",
     "exception": false,
     "start_time": "2020-10-13T07:52:14.002499",
     "status": "completed"
    },
    "tags": []
   },
   "outputs": [],
   "source": [
    "#Filling the NaN element with the majority ones\n",
    "bengaluru['location']=bengaluru['location'].fillna('Whitefield')"
   ]
  },
  {
   "cell_type": "code",
   "execution_count": 12,
   "metadata": {
    "execution": {
     "iopub.execute_input": "2020-10-13T07:52:14.194458Z",
     "iopub.status.busy": "2020-10-13T07:52:14.193967Z",
     "iopub.status.idle": "2020-10-13T07:52:14.200350Z",
     "shell.execute_reply": "2020-10-13T07:52:14.200736Z"
    },
    "papermill": {
     "duration": 0.071567,
     "end_time": "2020-10-13T07:52:14.200855",
     "exception": false,
     "start_time": "2020-10-13T07:52:14.129288",
     "status": "completed"
    },
    "tags": []
   },
   "outputs": [
    {
     "data": {
      "text/plain": [
       "area_type          0\n",
       "availability       0\n",
       "location           0\n",
       "size              16\n",
       "society         5502\n",
       "total_sqft         0\n",
       "bath              73\n",
       "balcony          609\n",
       "price              0\n",
       "dtype: int64"
      ]
     },
     "execution_count": 12,
     "metadata": {},
     "output_type": "execute_result"
    }
   ],
   "source": [
    "bengaluru.isnull().sum()"
   ]
  },
  {
   "cell_type": "code",
   "execution_count": 13,
   "metadata": {
    "execution": {
     "iopub.execute_input": "2020-10-13T07:52:14.286131Z",
     "iopub.status.busy": "2020-10-13T07:52:14.285658Z",
     "iopub.status.idle": "2020-10-13T07:52:14.287731Z",
     "shell.execute_reply": "2020-10-13T07:52:14.288070Z"
    },
    "papermill": {
     "duration": 0.04742,
     "end_time": "2020-10-13T07:52:14.288208",
     "exception": false,
     "start_time": "2020-10-13T07:52:14.240788",
     "status": "completed"
    },
    "tags": []
   },
   "outputs": [],
   "source": [
    "#The 'locations' which are in the data less than 10 times, just referring them as 'Others'"
   ]
  },
  {
   "cell_type": "code",
   "execution_count": 14,
   "metadata": {
    "execution": {
     "iopub.execute_input": "2020-10-13T07:52:14.383614Z",
     "iopub.status.busy": "2020-10-13T07:52:14.382617Z",
     "iopub.status.idle": "2020-10-13T07:52:14.389014Z",
     "shell.execute_reply": "2020-10-13T07:52:14.388541Z"
    },
    "papermill": {
     "duration": 0.060602,
     "end_time": "2020-10-13T07:52:14.389095",
     "exception": false,
     "start_time": "2020-10-13T07:52:14.328493",
     "status": "completed"
    },
    "tags": []
   },
   "outputs": [
    {
     "data": {
      "text/plain": [
       "Whitefield                   542\n",
       "Sarjapur  Road               399\n",
       "Electronic City              304\n",
       "Kanakpura Road               273\n",
       "Thanisandra                  237\n",
       "                            ... \n",
       "Lakshmipura Vidyaanyapura      1\n",
       "Ashraya Layout                 1\n",
       "Sadhguru Layout                1\n",
       "6th Block Jayanagar            1\n",
       "Subramanya Nagar               1\n",
       "Name: location, Length: 1294, dtype: int64"
      ]
     },
     "execution_count": 14,
     "metadata": {},
     "output_type": "execute_result"
    }
   ],
   "source": [
    "bengaluru.location=bengaluru.location.apply(lambda x: x.strip())\n",
    "location = bengaluru['location'].value_counts()\n",
    "location"
   ]
  },
  {
   "cell_type": "code",
   "execution_count": 15,
   "metadata": {
    "execution": {
     "iopub.execute_input": "2020-10-13T07:52:14.474173Z",
     "iopub.status.busy": "2020-10-13T07:52:14.473422Z",
     "iopub.status.idle": "2020-10-13T07:52:14.477908Z",
     "shell.execute_reply": "2020-10-13T07:52:14.477358Z"
    },
    "papermill": {
     "duration": 0.049025,
     "end_time": "2020-10-13T07:52:14.478024",
     "exception": false,
     "start_time": "2020-10-13T07:52:14.428999",
     "status": "completed"
    },
    "tags": []
   },
   "outputs": [
    {
     "data": {
      "text/plain": [
       "13320"
      ]
     },
     "execution_count": 15,
     "metadata": {},
     "output_type": "execute_result"
    }
   ],
   "source": [
    "location.values.sum()"
   ]
  },
  {
   "cell_type": "code",
   "execution_count": 16,
   "metadata": {
    "execution": {
     "iopub.execute_input": "2020-10-13T07:52:14.604264Z",
     "iopub.status.busy": "2020-10-13T07:52:14.603781Z",
     "iopub.status.idle": "2020-10-13T07:52:14.630833Z",
     "shell.execute_reply": "2020-10-13T07:52:14.630371Z"
    },
    "papermill": {
     "duration": 0.092153,
     "end_time": "2020-10-13T07:52:14.630913",
     "exception": false,
     "start_time": "2020-10-13T07:52:14.538760",
     "status": "completed"
    },
    "tags": []
   },
   "outputs": [
    {
     "data": {
      "text/plain": [
       "1053"
      ]
     },
     "execution_count": 16,
     "metadata": {},
     "output_type": "execute_result"
    }
   ],
   "source": [
    "len(location[location<=10])"
   ]
  },
  {
   "cell_type": "code",
   "execution_count": 17,
   "metadata": {
    "execution": {
     "iopub.execute_input": "2020-10-13T07:52:14.718328Z",
     "iopub.status.busy": "2020-10-13T07:52:14.717677Z",
     "iopub.status.idle": "2020-10-13T07:52:14.721457Z",
     "shell.execute_reply": "2020-10-13T07:52:14.721857Z"
    },
    "papermill": {
     "duration": 0.050825,
     "end_time": "2020-10-13T07:52:14.721968",
     "exception": false,
     "start_time": "2020-10-13T07:52:14.671143",
     "status": "completed"
    },
    "tags": []
   },
   "outputs": [
    {
     "data": {
      "text/plain": [
       "Naganathapura                10\n",
       "Ganga Nagar                  10\n",
       "Sadashiva Nagar              10\n",
       "Nagadevanahalli              10\n",
       "Dairy Circle                 10\n",
       "                             ..\n",
       "Lakshmipura Vidyaanyapura     1\n",
       "Ashraya Layout                1\n",
       "Sadhguru Layout               1\n",
       "6th Block Jayanagar           1\n",
       "Subramanya Nagar              1\n",
       "Name: location, Length: 1053, dtype: int64"
      ]
     },
     "execution_count": 17,
     "metadata": {},
     "output_type": "execute_result"
    }
   ],
   "source": [
    "location_less_than_10=location[location<=10]\n",
    "location_less_than_10"
   ]
  },
  {
   "cell_type": "code",
   "execution_count": 18,
   "metadata": {
    "execution": {
     "iopub.execute_input": "2020-10-13T07:52:14.823143Z",
     "iopub.status.busy": "2020-10-13T07:52:14.818910Z",
     "iopub.status.idle": "2020-10-13T07:52:14.826941Z",
     "shell.execute_reply": "2020-10-13T07:52:14.826468Z"
    },
    "papermill": {
     "duration": 0.064077,
     "end_time": "2020-10-13T07:52:14.827020",
     "exception": false,
     "start_time": "2020-10-13T07:52:14.762943",
     "status": "completed"
    },
    "tags": []
   },
   "outputs": [
    {
     "data": {
      "text/plain": [
       "0        Electronic City Phase II\n",
       "1                Chikka Tirupathi\n",
       "2                     Uttarahalli\n",
       "3              Lingadheeranahalli\n",
       "4                        Kothanur\n",
       "                   ...           \n",
       "13315                  Whitefield\n",
       "13316                      Others\n",
       "13317       Raja Rajeshwari Nagar\n",
       "13318             Padmanabhanagar\n",
       "13319                Doddathoguru\n",
       "Name: location, Length: 13320, dtype: object"
      ]
     },
     "execution_count": 18,
     "metadata": {},
     "output_type": "execute_result"
    }
   ],
   "source": [
    "bengaluru.location=bengaluru.location.apply(lambda x: 'Others' if x in location_less_than_10 else x)\n",
    "bengaluru.location"
   ]
  },
  {
   "cell_type": "code",
   "execution_count": 19,
   "metadata": {
    "execution": {
     "iopub.execute_input": "2020-10-13T07:52:14.917852Z",
     "iopub.status.busy": "2020-10-13T07:52:14.917137Z",
     "iopub.status.idle": "2020-10-13T07:52:14.921173Z",
     "shell.execute_reply": "2020-10-13T07:52:14.920758Z"
    },
    "papermill": {
     "duration": 0.053196,
     "end_time": "2020-10-13T07:52:14.921276",
     "exception": false,
     "start_time": "2020-10-13T07:52:14.868080",
     "status": "completed"
    },
    "tags": []
   },
   "outputs": [
    {
     "data": {
      "text/plain": [
       "Others                2885\n",
       "Whitefield             542\n",
       "Sarjapur  Road         399\n",
       "Electronic City        304\n",
       "Kanakpura Road         273\n",
       "                      ... \n",
       "Tindlu                  11\n",
       "Pattandur Agrahara      11\n",
       "Narayanapura            11\n",
       "Marsur                  11\n",
       "Kodigehalli             11\n",
       "Name: location, Length: 242, dtype: int64"
      ]
     },
     "execution_count": 19,
     "metadata": {},
     "output_type": "execute_result"
    }
   ],
   "source": [
    "bengaluru['location'].value_counts()"
   ]
  },
  {
   "cell_type": "code",
   "execution_count": 20,
   "metadata": {
    "execution": {
     "iopub.execute_input": "2020-10-13T07:52:15.012061Z",
     "iopub.status.busy": "2020-10-13T07:52:15.011576Z",
     "iopub.status.idle": "2020-10-13T07:52:15.014294Z",
     "shell.execute_reply": "2020-10-13T07:52:15.013817Z"
    },
    "papermill": {
     "duration": 0.051382,
     "end_time": "2020-10-13T07:52:15.014382",
     "exception": false,
     "start_time": "2020-10-13T07:52:14.963000",
     "status": "completed"
    },
    "tags": []
   },
   "outputs": [],
   "source": [
    "# 2. Area Type\n",
    "\n",
    "#Converting the data type into 'category' because only four types are present['Super built-up Area','Built-up Area','Plot Area','Carpet Area']"
   ]
  },
  {
   "cell_type": "code",
   "execution_count": 21,
   "metadata": {
    "execution": {
     "iopub.execute_input": "2020-10-13T07:52:15.105403Z",
     "iopub.status.busy": "2020-10-13T07:52:15.104917Z",
     "iopub.status.idle": "2020-10-13T07:52:15.109549Z",
     "shell.execute_reply": "2020-10-13T07:52:15.108876Z"
    },
    "papermill": {
     "duration": 0.052224,
     "end_time": "2020-10-13T07:52:15.109632",
     "exception": false,
     "start_time": "2020-10-13T07:52:15.057408",
     "status": "completed"
    },
    "tags": []
   },
   "outputs": [],
   "source": [
    "bengaluru['area_type']=bengaluru['area_type'].astype('category')"
   ]
  },
  {
   "cell_type": "code",
   "execution_count": 22,
   "metadata": {
    "execution": {
     "iopub.execute_input": "2020-10-13T07:52:15.211268Z",
     "iopub.status.busy": "2020-10-13T07:52:15.210554Z",
     "iopub.status.idle": "2020-10-13T07:52:15.220126Z",
     "shell.execute_reply": "2020-10-13T07:52:15.220590Z"
    },
    "papermill": {
     "duration": 0.06323,
     "end_time": "2020-10-13T07:52:15.220712",
     "exception": false,
     "start_time": "2020-10-13T07:52:15.157482",
     "status": "completed"
    },
    "tags": []
   },
   "outputs": [
    {
     "name": "stdout",
     "output_type": "stream",
     "text": [
      "<class 'pandas.core.frame.DataFrame'>\n",
      "RangeIndex: 13320 entries, 0 to 13319\n",
      "Data columns (total 9 columns):\n",
      " #   Column        Non-Null Count  Dtype   \n",
      "---  ------        --------------  -----   \n",
      " 0   area_type     13320 non-null  category\n",
      " 1   availability  13320 non-null  object  \n",
      " 2   location      13320 non-null  object  \n",
      " 3   size          13304 non-null  object  \n",
      " 4   society       7818 non-null   object  \n",
      " 5   total_sqft    13320 non-null  object  \n",
      " 6   bath          13247 non-null  float64 \n",
      " 7   balcony       12711 non-null  float64 \n",
      " 8   price         13320 non-null  float64 \n",
      "dtypes: category(1), float64(3), object(5)\n",
      "memory usage: 845.8+ KB\n"
     ]
    }
   ],
   "source": [
    "bengaluru.info()"
   ]
  },
  {
   "cell_type": "code",
   "execution_count": 23,
   "metadata": {
    "execution": {
     "iopub.execute_input": "2020-10-13T07:52:15.316644Z",
     "iopub.status.busy": "2020-10-13T07:52:15.316122Z",
     "iopub.status.idle": "2020-10-13T07:52:15.322234Z",
     "shell.execute_reply": "2020-10-13T07:52:15.321723Z"
    },
    "papermill": {
     "duration": 0.058992,
     "end_time": "2020-10-13T07:52:15.322319",
     "exception": false,
     "start_time": "2020-10-13T07:52:15.263327",
     "status": "completed"
    },
    "tags": []
   },
   "outputs": [
    {
     "data": {
      "text/plain": [
       "area_type          0\n",
       "availability       0\n",
       "location           0\n",
       "size              16\n",
       "society         5502\n",
       "total_sqft         0\n",
       "bath              73\n",
       "balcony          609\n",
       "price              0\n",
       "dtype: int64"
      ]
     },
     "execution_count": 23,
     "metadata": {},
     "output_type": "execute_result"
    }
   ],
   "source": [
    "bengaluru.isnull().sum()"
   ]
  },
  {
   "cell_type": "code",
   "execution_count": 24,
   "metadata": {
    "execution": {
     "iopub.execute_input": "2020-10-13T07:52:15.417518Z",
     "iopub.status.busy": "2020-10-13T07:52:15.416993Z",
     "iopub.status.idle": "2020-10-13T07:52:15.420687Z",
     "shell.execute_reply": "2020-10-13T07:52:15.420243Z"
    },
    "papermill": {
     "duration": 0.051973,
     "end_time": "2020-10-13T07:52:15.420763",
     "exception": false,
     "start_time": "2020-10-13T07:52:15.368790",
     "status": "completed"
    },
    "tags": []
   },
   "outputs": [],
   "source": [
    "# 3. Size"
   ]
  },
  {
   "cell_type": "code",
   "execution_count": 25,
   "metadata": {
    "execution": {
     "iopub.execute_input": "2020-10-13T07:52:15.512162Z",
     "iopub.status.busy": "2020-10-13T07:52:15.511634Z",
     "iopub.status.idle": "2020-10-13T07:52:15.515848Z",
     "shell.execute_reply": "2020-10-13T07:52:15.516352Z"
    },
    "papermill": {
     "duration": 0.052699,
     "end_time": "2020-10-13T07:52:15.516497",
     "exception": false,
     "start_time": "2020-10-13T07:52:15.463798",
     "status": "completed"
    },
    "tags": []
   },
   "outputs": [
    {
     "data": {
      "text/plain": [
       "0            2 BHK\n",
       "1        4 Bedroom\n",
       "2            3 BHK\n",
       "3            3 BHK\n",
       "4            2 BHK\n",
       "           ...    \n",
       "13315    5 Bedroom\n",
       "13316        4 BHK\n",
       "13317        2 BHK\n",
       "13318        4 BHK\n",
       "13319        1 BHK\n",
       "Name: size, Length: 13320, dtype: object"
      ]
     },
     "execution_count": 25,
     "metadata": {},
     "output_type": "execute_result"
    }
   ],
   "source": [
    "bengaluru['size']"
   ]
  },
  {
   "cell_type": "code",
   "execution_count": 26,
   "metadata": {
    "execution": {
     "iopub.execute_input": "2020-10-13T07:52:15.718037Z",
     "iopub.status.busy": "2020-10-13T07:52:15.708388Z",
     "iopub.status.idle": "2020-10-13T07:52:15.725772Z",
     "shell.execute_reply": "2020-10-13T07:52:15.725369Z"
    },
    "papermill": {
     "duration": 0.144117,
     "end_time": "2020-10-13T07:52:15.725855",
     "exception": false,
     "start_time": "2020-10-13T07:52:15.581738",
     "status": "completed"
    },
    "tags": []
   },
   "outputs": [
    {
     "data": {
      "text/plain": [
       "0        2\n",
       "1        4\n",
       "2        3\n",
       "3        3\n",
       "4        2\n",
       "        ..\n",
       "13315    5\n",
       "13316    4\n",
       "13317    2\n",
       "13318    4\n",
       "13319    1\n",
       "Name: size, Length: 13320, dtype: object"
      ]
     },
     "execution_count": 26,
     "metadata": {},
     "output_type": "execute_result"
    }
   ],
   "source": [
    "#Removing BHK,bedroom and RK from the 'size' column\n",
    "bengaluru['size']=bengaluru['size'].str.split().str[0]\n",
    "bengaluru['size']"
   ]
  },
  {
   "cell_type": "code",
   "execution_count": 27,
   "metadata": {
    "execution": {
     "iopub.execute_input": "2020-10-13T07:52:15.821367Z",
     "iopub.status.busy": "2020-10-13T07:52:15.819377Z",
     "iopub.status.idle": "2020-10-13T07:52:15.824898Z",
     "shell.execute_reply": "2020-10-13T07:52:15.825282Z"
    },
    "papermill": {
     "duration": 0.055369,
     "end_time": "2020-10-13T07:52:15.825396",
     "exception": false,
     "start_time": "2020-10-13T07:52:15.770027",
     "status": "completed"
    },
    "tags": []
   },
   "outputs": [
    {
     "data": {
      "text/plain": [
       "2     5528\n",
       "3     4857\n",
       "4     1417\n",
       "1      656\n",
       "5      356\n",
       "6      221\n",
       "7      100\n",
       "8       89\n",
       "9       54\n",
       "10      14\n",
       "11       4\n",
       "27       1\n",
       "13       1\n",
       "43       1\n",
       "16       1\n",
       "12       1\n",
       "14       1\n",
       "18       1\n",
       "19       1\n",
       "Name: size, dtype: int64"
      ]
     },
     "execution_count": 27,
     "metadata": {},
     "output_type": "execute_result"
    }
   ],
   "source": [
    "bengaluru['size'].value_counts()"
   ]
  },
  {
   "cell_type": "code",
   "execution_count": 28,
   "metadata": {
    "execution": {
     "iopub.execute_input": "2020-10-13T07:52:15.926504Z",
     "iopub.status.busy": "2020-10-13T07:52:15.925528Z",
     "iopub.status.idle": "2020-10-13T07:52:15.931799Z",
     "shell.execute_reply": "2020-10-13T07:52:15.931275Z"
    },
    "papermill": {
     "duration": 0.06145,
     "end_time": "2020-10-13T07:52:15.931897",
     "exception": false,
     "start_time": "2020-10-13T07:52:15.870447",
     "status": "completed"
    },
    "tags": []
   },
   "outputs": [],
   "source": [
    "#Dropping the NaN elements\n",
    "bengaluru.dropna(subset=['size'],inplace=True)"
   ]
  },
  {
   "cell_type": "code",
   "execution_count": 29,
   "metadata": {
    "execution": {
     "iopub.execute_input": "2020-10-13T07:52:16.068844Z",
     "iopub.status.busy": "2020-10-13T07:52:16.068148Z",
     "iopub.status.idle": "2020-10-13T07:52:16.072462Z",
     "shell.execute_reply": "2020-10-13T07:52:16.071906Z"
    },
    "papermill": {
     "duration": 0.0752,
     "end_time": "2020-10-13T07:52:16.072567",
     "exception": false,
     "start_time": "2020-10-13T07:52:15.997367",
     "status": "completed"
    },
    "tags": []
   },
   "outputs": [],
   "source": [
    "#Converting the data type of 'size' column to int32 to remove the decimal point\n",
    "bengaluru['size']=bengaluru['size'].astype('int32')"
   ]
  },
  {
   "cell_type": "code",
   "execution_count": 30,
   "metadata": {
    "execution": {
     "iopub.execute_input": "2020-10-13T07:52:16.208333Z",
     "iopub.status.busy": "2020-10-13T07:52:16.207766Z",
     "iopub.status.idle": "2020-10-13T07:52:17.202600Z",
     "shell.execute_reply": "2020-10-13T07:52:17.202046Z"
    },
    "papermill": {
     "duration": 1.064305,
     "end_time": "2020-10-13T07:52:17.202688",
     "exception": false,
     "start_time": "2020-10-13T07:52:16.138383",
     "status": "completed"
    },
    "tags": []
   },
   "outputs": [],
   "source": [
    "import seaborn as sns"
   ]
  },
  {
   "cell_type": "code",
   "execution_count": 31,
   "metadata": {
    "execution": {
     "iopub.execute_input": "2020-10-13T07:52:17.295937Z",
     "iopub.status.busy": "2020-10-13T07:52:17.295396Z",
     "iopub.status.idle": "2020-10-13T07:52:17.298670Z",
     "shell.execute_reply": "2020-10-13T07:52:17.298285Z"
    },
    "papermill": {
     "duration": 0.051875,
     "end_time": "2020-10-13T07:52:17.298756",
     "exception": false,
     "start_time": "2020-10-13T07:52:17.246881",
     "status": "completed"
    },
    "tags": []
   },
   "outputs": [],
   "source": [
    "import matplotlib.pyplot as plt"
   ]
  },
  {
   "cell_type": "code",
   "execution_count": 32,
   "metadata": {
    "execution": {
     "iopub.execute_input": "2020-10-13T07:52:17.391987Z",
     "iopub.status.busy": "2020-10-13T07:52:17.391509Z",
     "iopub.status.idle": "2020-10-13T07:52:17.535923Z",
     "shell.execute_reply": "2020-10-13T07:52:17.535445Z"
    },
    "papermill": {
     "duration": 0.192871,
     "end_time": "2020-10-13T07:52:17.536006",
     "exception": false,
     "start_time": "2020-10-13T07:52:17.343135",
     "status": "completed"
    },
    "tags": []
   },
   "outputs": [
    {
     "data": {
      "text/plain": [
       "<matplotlib.axes._subplots.AxesSubplot at 0x7f2128062f50>"
      ]
     },
     "execution_count": 32,
     "metadata": {},
     "output_type": "execute_result"
    },
    {
     "data": {
      "image/png": "[encoded data removed]",
      "text/plain": [
       "<Figure size 432x288 with 1 Axes>"
      ]
     },
     "metadata": {
      "needs_background": "light"
     },
     "output_type": "display_data"
    }
   ],
   "source": [
    "sns.boxplot(bengaluru['size'])"
   ]
  },
  {
   "cell_type": "code",
   "execution_count": 33,
   "metadata": {
    "execution": {
     "iopub.execute_input": "2020-10-13T07:52:17.633808Z",
     "iopub.status.busy": "2020-10-13T07:52:17.632689Z",
     "iopub.status.idle": "2020-10-13T07:52:17.639434Z",
     "shell.execute_reply": "2020-10-13T07:52:17.638860Z"
    },
    "papermill": {
     "duration": 0.057936,
     "end_time": "2020-10-13T07:52:17.639518",
     "exception": false,
     "start_time": "2020-10-13T07:52:17.581582",
     "status": "completed"
    },
    "tags": []
   },
   "outputs": [],
   "source": [
    "#Removing the outliers which are more than 10 beacuse they are insane\n",
    "bengaluru=bengaluru.drop(bengaluru[bengaluru['size']>10].index)"
   ]
  },
  {
   "cell_type": "code",
   "execution_count": 34,
   "metadata": {
    "execution": {
     "iopub.execute_input": "2020-10-13T07:52:17.734745Z",
     "iopub.status.busy": "2020-10-13T07:52:17.734272Z",
     "iopub.status.idle": "2020-10-13T07:52:17.736378Z",
     "shell.execute_reply": "2020-10-13T07:52:17.736708Z"
    },
    "papermill": {
     "duration": 0.052377,
     "end_time": "2020-10-13T07:52:17.736809",
     "exception": false,
     "start_time": "2020-10-13T07:52:17.684432",
     "status": "completed"
    },
    "tags": []
   },
   "outputs": [],
   "source": [
    "#Converting the data type to category because there are only 10 categories present now\n",
    "bengaluru['size']=bengaluru['size'].astype('category')"
   ]
  },
  {
   "cell_type": "code",
   "execution_count": 35,
   "metadata": {
    "execution": {
     "iopub.execute_input": "2020-10-13T07:52:17.833367Z",
     "iopub.status.busy": "2020-10-13T07:52:17.830636Z",
     "iopub.status.idle": "2020-10-13T07:52:17.841600Z",
     "shell.execute_reply": "2020-10-13T07:52:17.841968Z"
    },
    "papermill": {
     "duration": 0.060522,
     "end_time": "2020-10-13T07:52:17.842073",
     "exception": false,
     "start_time": "2020-10-13T07:52:17.781551",
     "status": "completed"
    },
    "tags": []
   },
   "outputs": [
    {
     "name": "stdout",
     "output_type": "stream",
     "text": [
      "<class 'pandas.core.frame.DataFrame'>\n",
      "Int64Index: 13292 entries, 0 to 13319\n",
      "Data columns (total 9 columns):\n",
      " #   Column        Non-Null Count  Dtype   \n",
      "---  ------        --------------  -----   \n",
      " 0   area_type     13292 non-null  category\n",
      " 1   availability  13292 non-null  object  \n",
      " 2   location      13292 non-null  object  \n",
      " 3   size          13292 non-null  category\n",
      " 4   society       7803 non-null   object  \n",
      " 5   total_sqft    13292 non-null  object  \n",
      " 6   bath          13235 non-null  float64 \n",
      " 7   balcony       12703 non-null  float64 \n",
      " 8   price         13292 non-null  float64 \n",
      "dtypes: category(2), float64(3), object(4)\n",
      "memory usage: 857.3+ KB\n"
     ]
    }
   ],
   "source": [
    "bengaluru.info()"
   ]
  },
  {
   "cell_type": "code",
   "execution_count": 36,
   "metadata": {
    "execution": {
     "iopub.execute_input": "2020-10-13T07:52:17.957747Z",
     "iopub.status.busy": "2020-10-13T07:52:17.957070Z",
     "iopub.status.idle": "2020-10-13T07:52:17.960391Z",
     "shell.execute_reply": "2020-10-13T07:52:17.959860Z"
    },
    "papermill": {
     "duration": 0.068903,
     "end_time": "2020-10-13T07:52:17.960491",
     "exception": false,
     "start_time": "2020-10-13T07:52:17.891588",
     "status": "completed"
    },
    "tags": []
   },
   "outputs": [],
   "source": [
    "# 4. Society"
   ]
  },
  {
   "cell_type": "code",
   "execution_count": 37,
   "metadata": {
    "execution": {
     "iopub.execute_input": "2020-10-13T07:52:18.114491Z",
     "iopub.status.busy": "2020-10-13T07:52:18.113844Z",
     "iopub.status.idle": "2020-10-13T07:52:18.118709Z",
     "shell.execute_reply": "2020-10-13T07:52:18.118275Z"
    },
    "papermill": {
     "duration": 0.098697,
     "end_time": "2020-10-13T07:52:18.118804",
     "exception": false,
     "start_time": "2020-10-13T07:52:18.020107",
     "status": "completed"
    },
    "tags": []
   },
   "outputs": [
    {
     "data": {
      "text/plain": [
       "GrrvaGr    80\n",
       "PrarePa    76\n",
       "Sryalan    59\n",
       "Prtates    59\n",
       "GMown E    56\n",
       "           ..\n",
       "BancyRe     1\n",
       "DSoodSh     1\n",
       "Marnara     1\n",
       "Soestin     1\n",
       "IJent A     1\n",
       "Name: society, Length: 2676, dtype: int64"
      ]
     },
     "execution_count": 37,
     "metadata": {},
     "output_type": "execute_result"
    }
   ],
   "source": [
    "bengaluru['society'].value_counts()"
   ]
  },
  {
   "cell_type": "code",
   "execution_count": 38,
   "metadata": {
    "execution": {
     "iopub.execute_input": "2020-10-13T07:52:18.217265Z",
     "iopub.status.busy": "2020-10-13T07:52:18.216550Z",
     "iopub.status.idle": "2020-10-13T07:52:18.218964Z",
     "shell.execute_reply": "2020-10-13T07:52:18.218584Z"
    },
    "papermill": {
     "duration": 0.054336,
     "end_time": "2020-10-13T07:52:18.219052",
     "exception": false,
     "start_time": "2020-10-13T07:52:18.164716",
     "status": "completed"
    },
    "tags": []
   },
   "outputs": [],
   "source": [
    "#Filled the NaN values with 'Information not Available'\n",
    "bengaluru['society']=bengaluru['society'].fillna('Information Not Available')\n"
   ]
  },
  {
   "cell_type": "code",
   "execution_count": 39,
   "metadata": {
    "execution": {
     "iopub.execute_input": "2020-10-13T07:52:18.319808Z",
     "iopub.status.busy": "2020-10-13T07:52:18.317819Z",
     "iopub.status.idle": "2020-10-13T07:52:18.324627Z",
     "shell.execute_reply": "2020-10-13T07:52:18.324248Z"
    },
    "papermill": {
     "duration": 0.058941,
     "end_time": "2020-10-13T07:52:18.324709",
     "exception": false,
     "start_time": "2020-10-13T07:52:18.265768",
     "status": "completed"
    },
    "tags": []
   },
   "outputs": [
    {
     "data": {
      "text/plain": [
       "Information Not Available    5489\n",
       "GrrvaGr                        80\n",
       "PrarePa                        76\n",
       "Prtates                        59\n",
       "Sryalan                        59\n",
       "                             ... \n",
       "BancyRe                         1\n",
       "DSoodSh                         1\n",
       "Marnara                         1\n",
       "Soestin                         1\n",
       "IJent A                         1\n",
       "Name: society, Length: 2677, dtype: int64"
      ]
     },
     "execution_count": 39,
     "metadata": {},
     "output_type": "execute_result"
    }
   ],
   "source": [
    "bengaluru['society'].value_counts()"
   ]
  },
  {
   "cell_type": "code",
   "execution_count": 40,
   "metadata": {
    "execution": {
     "iopub.execute_input": "2020-10-13T07:52:18.423353Z",
     "iopub.status.busy": "2020-10-13T07:52:18.422849Z",
     "iopub.status.idle": "2020-10-13T07:52:18.425335Z",
     "shell.execute_reply": "2020-10-13T07:52:18.425703Z"
    },
    "papermill": {
     "duration": 0.05345,
     "end_time": "2020-10-13T07:52:18.425813",
     "exception": false,
     "start_time": "2020-10-13T07:52:18.372363",
     "status": "completed"
    },
    "tags": []
   },
   "outputs": [],
   "source": [
    "#The 'society' which are in the data less than 10 times, just referring them as 'Others'"
   ]
  },
  {
   "cell_type": "code",
   "execution_count": 41,
   "metadata": {
    "execution": {
     "iopub.execute_input": "2020-10-13T07:52:18.529658Z",
     "iopub.status.busy": "2020-10-13T07:52:18.529138Z",
     "iopub.status.idle": "2020-10-13T07:52:18.535973Z",
     "shell.execute_reply": "2020-10-13T07:52:18.536355Z"
    },
    "papermill": {
     "duration": 0.063145,
     "end_time": "2020-10-13T07:52:18.536463",
     "exception": false,
     "start_time": "2020-10-13T07:52:18.473318",
     "status": "completed"
    },
    "tags": []
   },
   "outputs": [
    {
     "data": {
      "text/plain": [
       "Information Not Available    5489\n",
       "GrrvaGr                        80\n",
       "PrarePa                        76\n",
       "Prtates                        59\n",
       "Sryalan                        59\n",
       "                             ... \n",
       "BancyRe                         1\n",
       "DSoodSh                         1\n",
       "Marnara                         1\n",
       "Soestin                         1\n",
       "IJent A                         1\n",
       "Name: society, Length: 2677, dtype: int64"
      ]
     },
     "execution_count": 41,
     "metadata": {},
     "output_type": "execute_result"
    }
   ],
   "source": [
    "bengaluru.society.apply(lambda x: x.strip())\n",
    "society = bengaluru['society'].value_counts()\n",
    "society"
   ]
  },
  {
   "cell_type": "code",
   "execution_count": 42,
   "metadata": {
    "execution": {
     "iopub.execute_input": "2020-10-13T07:52:18.636674Z",
     "iopub.status.busy": "2020-10-13T07:52:18.636078Z",
     "iopub.status.idle": "2020-10-13T07:52:18.640767Z",
     "shell.execute_reply": "2020-10-13T07:52:18.640343Z"
    },
    "papermill": {
     "duration": 0.057094,
     "end_time": "2020-10-13T07:52:18.640855",
     "exception": false,
     "start_time": "2020-10-13T07:52:18.583761",
     "status": "completed"
    },
    "tags": []
   },
   "outputs": [
    {
     "data": {
      "text/plain": [
       "13292"
      ]
     },
     "execution_count": 42,
     "metadata": {},
     "output_type": "execute_result"
    }
   ],
   "source": [
    "society.values.sum()"
   ]
  },
  {
   "cell_type": "code",
   "execution_count": 43,
   "metadata": {
    "execution": {
     "iopub.execute_input": "2020-10-13T07:52:18.743681Z",
     "iopub.status.busy": "2020-10-13T07:52:18.743101Z",
     "iopub.status.idle": "2020-10-13T07:52:18.746489Z",
     "shell.execute_reply": "2020-10-13T07:52:18.746062Z"
    },
    "papermill": {
     "duration": 0.057506,
     "end_time": "2020-10-13T07:52:18.746589",
     "exception": false,
     "start_time": "2020-10-13T07:52:18.689083",
     "status": "completed"
    },
    "tags": []
   },
   "outputs": [
    {
     "data": {
      "text/plain": [
       "2547"
      ]
     },
     "execution_count": 43,
     "metadata": {},
     "output_type": "execute_result"
    }
   ],
   "source": [
    "len(society[society<=10])"
   ]
  },
  {
   "cell_type": "code",
   "execution_count": 44,
   "metadata": {
    "execution": {
     "iopub.execute_input": "2020-10-13T07:52:18.848936Z",
     "iopub.status.busy": "2020-10-13T07:52:18.848312Z",
     "iopub.status.idle": "2020-10-13T07:52:18.850744Z",
     "shell.execute_reply": "2020-10-13T07:52:18.851247Z"
    },
    "papermill": {
     "duration": 0.056905,
     "end_time": "2020-10-13T07:52:18.851374",
     "exception": false,
     "start_time": "2020-10-13T07:52:18.794469",
     "status": "completed"
    },
    "tags": []
   },
   "outputs": [
    {
     "data": {
      "text/plain": [
       "Maity W    10\n",
       "SoitaCa    10\n",
       "SoisoCa    10\n",
       "Shestlo    10\n",
       "Neisei     10\n",
       "           ..\n",
       "BancyRe     1\n",
       "DSoodSh     1\n",
       "Marnara     1\n",
       "Soestin     1\n",
       "IJent A     1\n",
       "Name: society, Length: 2547, dtype: int64"
      ]
     },
     "execution_count": 44,
     "metadata": {},
     "output_type": "execute_result"
    }
   ],
   "source": [
    "society_less_than_10=society[society<=10]\n",
    "society_less_than_10"
   ]
  },
  {
   "cell_type": "code",
   "execution_count": 45,
   "metadata": {
    "execution": {
     "iopub.execute_input": "2020-10-13T07:52:19.019968Z",
     "iopub.status.busy": "2020-10-13T07:52:19.010640Z",
     "iopub.status.idle": "2020-10-13T07:52:19.023638Z",
     "shell.execute_reply": "2020-10-13T07:52:19.023067Z"
    },
    "papermill": {
     "duration": 0.096989,
     "end_time": "2020-10-13T07:52:19.023742",
     "exception": false,
     "start_time": "2020-10-13T07:52:18.926753",
     "status": "completed"
    },
    "tags": []
   },
   "outputs": [
    {
     "data": {
      "text/plain": [
       "0                           Others\n",
       "1                          Theanmp\n",
       "2        Information Not Available\n",
       "3                          Soiewre\n",
       "4        Information Not Available\n",
       "                   ...            \n",
       "13315                       Others\n",
       "13316    Information Not Available\n",
       "13317                       Others\n",
       "13318                       Others\n",
       "13319    Information Not Available\n",
       "Name: society, Length: 13292, dtype: object"
      ]
     },
     "execution_count": 45,
     "metadata": {},
     "output_type": "execute_result"
    }
   ],
   "source": [
    "bengaluru.society=bengaluru.society.apply(lambda x: 'Others' if x in society_less_than_10 else x)\n",
    "bengaluru.society"
   ]
  },
  {
   "cell_type": "code",
   "execution_count": 46,
   "metadata": {
    "execution": {
     "iopub.execute_input": "2020-10-13T07:52:19.131410Z",
     "iopub.status.busy": "2020-10-13T07:52:19.129058Z",
     "iopub.status.idle": "2020-10-13T07:52:19.136398Z",
     "shell.execute_reply": "2020-10-13T07:52:19.135881Z"
    },
    "papermill": {
     "duration": 0.062067,
     "end_time": "2020-10-13T07:52:19.136488",
     "exception": false,
     "start_time": "2020-10-13T07:52:19.074421",
     "status": "completed"
    },
    "tags": []
   },
   "outputs": [
    {
     "data": {
      "text/plain": [
       "Information Not Available    5489\n",
       "Others                       5065\n",
       "GrrvaGr                        80\n",
       "PrarePa                        76\n",
       "Prtates                        59\n",
       "                             ... \n",
       "Peide L                        11\n",
       "Wiowsri                        11\n",
       "SheldGr                        11\n",
       "Pronyt                         11\n",
       "SPavenc                        11\n",
       "Name: society, Length: 131, dtype: int64"
      ]
     },
     "execution_count": 46,
     "metadata": {},
     "output_type": "execute_result"
    }
   ],
   "source": [
    "bengaluru['society'].value_counts()"
   ]
  },
  {
   "cell_type": "code",
   "execution_count": 47,
   "metadata": {
    "execution": {
     "iopub.execute_input": "2020-10-13T07:52:19.240901Z",
     "iopub.status.busy": "2020-10-13T07:52:19.237987Z",
     "iopub.status.idle": "2020-10-13T07:52:19.249856Z",
     "shell.execute_reply": "2020-10-13T07:52:19.249311Z"
    },
    "papermill": {
     "duration": 0.064404,
     "end_time": "2020-10-13T07:52:19.249958",
     "exception": false,
     "start_time": "2020-10-13T07:52:19.185554",
     "status": "completed"
    },
    "tags": []
   },
   "outputs": [
    {
     "name": "stdout",
     "output_type": "stream",
     "text": [
      "<class 'pandas.core.frame.DataFrame'>\n",
      "Int64Index: 13292 entries, 0 to 13319\n",
      "Data columns (total 9 columns):\n",
      " #   Column        Non-Null Count  Dtype   \n",
      "---  ------        --------------  -----   \n",
      " 0   area_type     13292 non-null  category\n",
      " 1   availability  13292 non-null  object  \n",
      " 2   location      13292 non-null  object  \n",
      " 3   size          13292 non-null  category\n",
      " 4   society       13292 non-null  object  \n",
      " 5   total_sqft    13292 non-null  object  \n",
      " 6   bath          13235 non-null  float64 \n",
      " 7   balcony       12703 non-null  float64 \n",
      " 8   price         13292 non-null  float64 \n",
      "dtypes: category(2), float64(3), object(4)\n",
      "memory usage: 857.3+ KB\n"
     ]
    }
   ],
   "source": [
    "bengaluru.info()"
   ]
  },
  {
   "cell_type": "code",
   "execution_count": 48,
   "metadata": {
    "execution": {
     "iopub.execute_input": "2020-10-13T07:52:19.404557Z",
     "iopub.status.busy": "2020-10-13T07:52:19.403874Z",
     "iopub.status.idle": "2020-10-13T07:52:19.406699Z",
     "shell.execute_reply": "2020-10-13T07:52:19.406256Z"
    },
    "papermill": {
     "duration": 0.082104,
     "end_time": "2020-10-13T07:52:19.406781",
     "exception": false,
     "start_time": "2020-10-13T07:52:19.324677",
     "status": "completed"
    },
    "tags": []
   },
   "outputs": [],
   "source": [
    "# 5.Availabilty"
   ]
  },
  {
   "cell_type": "code",
   "execution_count": 49,
   "metadata": {
    "execution": {
     "iopub.execute_input": "2020-10-13T07:52:19.512567Z",
     "iopub.status.busy": "2020-10-13T07:52:19.512072Z",
     "iopub.status.idle": "2020-10-13T07:52:19.515936Z",
     "shell.execute_reply": "2020-10-13T07:52:19.516329Z"
    },
    "papermill": {
     "duration": 0.060278,
     "end_time": "2020-10-13T07:52:19.516438",
     "exception": false,
     "start_time": "2020-10-13T07:52:19.456160",
     "status": "completed"
    },
    "tags": []
   },
   "outputs": [
    {
     "data": {
      "text/plain": [
       "Ready To Move    10570\n",
       "18-Dec             307\n",
       "18-May             295\n",
       "18-Apr             270\n",
       "18-Aug             200\n",
       "                 ...  \n",
       "16-Nov               1\n",
       "16-Jul               1\n",
       "17-Jan               1\n",
       "16-Jan               1\n",
       "15-Jun               1\n",
       "Name: availability, Length: 80, dtype: int64"
      ]
     },
     "execution_count": 49,
     "metadata": {},
     "output_type": "execute_result"
    }
   ],
   "source": [
    "bengaluru['availability'].value_counts()"
   ]
  },
  {
   "cell_type": "code",
   "execution_count": 50,
   "metadata": {
    "execution": {
     "iopub.execute_input": "2020-10-13T07:52:19.620256Z",
     "iopub.status.busy": "2020-10-13T07:52:19.619630Z",
     "iopub.status.idle": "2020-10-13T07:52:19.622396Z",
     "shell.execute_reply": "2020-10-13T07:52:19.621784Z"
    },
    "papermill": {
     "duration": 0.055802,
     "end_time": "2020-10-13T07:52:19.622502",
     "exception": false,
     "start_time": "2020-10-13T07:52:19.566700",
     "status": "completed"
    },
    "tags": []
   },
   "outputs": [],
   "source": [
    "#Referring the dates as 'Available Soon' to convert the column into consistent data type "
   ]
  },
  {
   "cell_type": "code",
   "execution_count": 51,
   "metadata": {
    "execution": {
     "iopub.execute_input": "2020-10-13T07:52:20.410266Z",
     "iopub.status.busy": "2020-10-13T07:52:20.389275Z",
     "iopub.status.idle": "2020-10-13T07:52:20.414888Z",
     "shell.execute_reply": "2020-10-13T07:52:20.415371Z"
    },
    "papermill": {
     "duration": 0.717514,
     "end_time": "2020-10-13T07:52:20.415503",
     "exception": false,
     "start_time": "2020-10-13T07:52:19.697989",
     "status": "completed"
    },
    "tags": []
   },
   "outputs": [
    {
     "data": {
      "text/plain": [
       "0        Available Soon\n",
       "1         Ready To Move\n",
       "2         Ready To Move\n",
       "3         Ready To Move\n",
       "4         Ready To Move\n",
       "              ...      \n",
       "13315     Ready To Move\n",
       "13316     Ready To Move\n",
       "13317     Ready To Move\n",
       "13318    Available Soon\n",
       "13319     Ready To Move\n",
       "Name: availability, Length: 13292, dtype: object"
      ]
     },
     "execution_count": 51,
     "metadata": {},
     "output_type": "execute_result"
    }
   ],
   "source": [
    "mask1=[i for i in bengaluru['availability'] if i not in ['Ready To Move','Immediate Possession']]\n",
    "bengaluru['availability']=bengaluru['availability'].replace(mask1,'Available Soon')\n",
    "bengaluru['availability']"
   ]
  },
  {
   "cell_type": "code",
   "execution_count": 52,
   "metadata": {
    "execution": {
     "iopub.execute_input": "2020-10-13T07:52:20.571679Z",
     "iopub.status.busy": "2020-10-13T07:52:20.571044Z",
     "iopub.status.idle": "2020-10-13T07:52:20.578679Z",
     "shell.execute_reply": "2020-10-13T07:52:20.579150Z"
    },
    "papermill": {
     "duration": 0.088411,
     "end_time": "2020-10-13T07:52:20.579301",
     "exception": false,
     "start_time": "2020-10-13T07:52:20.490890",
     "status": "completed"
    },
    "tags": []
   },
   "outputs": [
    {
     "data": {
      "text/plain": [
       "0        Available Soon\n",
       "1         Ready To Move\n",
       "2         Ready To Move\n",
       "3         Ready To Move\n",
       "4         Ready To Move\n",
       "              ...      \n",
       "13315     Ready To Move\n",
       "13316     Ready To Move\n",
       "13317     Ready To Move\n",
       "13318    Available Soon\n",
       "13319     Ready To Move\n",
       "Name: availability, Length: 13292, dtype: category\n",
       "Categories (2, object): ['Available Soon', 'Ready To Move']"
      ]
     },
     "execution_count": 52,
     "metadata": {},
     "output_type": "execute_result"
    }
   ],
   "source": [
    "#Converting the data type of 'availabilty' column to category because there are 3 categories['Available Soon','Immediate Possession','Ready To Move']\n",
    "bengaluru['availability']=bengaluru['availability'].astype('category')\n",
    "bengaluru['availability']"
   ]
  },
  {
   "cell_type": "code",
   "execution_count": 53,
   "metadata": {
    "execution": {
     "iopub.execute_input": "2020-10-13T07:52:20.739173Z",
     "iopub.status.busy": "2020-10-13T07:52:20.737023Z",
     "iopub.status.idle": "2020-10-13T07:52:20.751520Z",
     "shell.execute_reply": "2020-10-13T07:52:20.750849Z"
    },
    "papermill": {
     "duration": 0.096225,
     "end_time": "2020-10-13T07:52:20.751627",
     "exception": false,
     "start_time": "2020-10-13T07:52:20.655402",
     "status": "completed"
    },
    "tags": []
   },
   "outputs": [
    {
     "name": "stdout",
     "output_type": "stream",
     "text": [
      "<class 'pandas.core.frame.DataFrame'>\n",
      "Int64Index: 13292 entries, 0 to 13319\n",
      "Data columns (total 9 columns):\n",
      " #   Column        Non-Null Count  Dtype   \n",
      "---  ------        --------------  -----   \n",
      " 0   area_type     13292 non-null  category\n",
      " 1   availability  13292 non-null  category\n",
      " 2   location      13292 non-null  object  \n",
      " 3   size          13292 non-null  category\n",
      " 4   society       13292 non-null  object  \n",
      " 5   total_sqft    13292 non-null  object  \n",
      " 6   bath          13235 non-null  float64 \n",
      " 7   balcony       12703 non-null  float64 \n",
      " 8   price         13292 non-null  float64 \n",
      "dtypes: category(3), float64(3), object(3)\n",
      "memory usage: 766.5+ KB\n"
     ]
    }
   ],
   "source": [
    "bengaluru.info()"
   ]
  },
  {
   "cell_type": "code",
   "execution_count": 54,
   "metadata": {
    "execution": {
     "iopub.execute_input": "2020-10-13T07:52:20.861629Z",
     "iopub.status.busy": "2020-10-13T07:52:20.861135Z",
     "iopub.status.idle": "2020-10-13T07:52:20.863104Z",
     "shell.execute_reply": "2020-10-13T07:52:20.862665Z"
    },
    "papermill": {
     "duration": 0.057384,
     "end_time": "2020-10-13T07:52:20.863220",
     "exception": false,
     "start_time": "2020-10-13T07:52:20.805836",
     "status": "completed"
    },
    "tags": []
   },
   "outputs": [],
   "source": [
    "# 6.Total Square feet"
   ]
  },
  {
   "cell_type": "code",
   "execution_count": 55,
   "metadata": {
    "execution": {
     "iopub.execute_input": "2020-10-13T07:52:20.971861Z",
     "iopub.status.busy": "2020-10-13T07:52:20.971165Z",
     "iopub.status.idle": "2020-10-13T07:52:20.974045Z",
     "shell.execute_reply": "2020-10-13T07:52:20.973442Z"
    },
    "papermill": {
     "duration": 0.059616,
     "end_time": "2020-10-13T07:52:20.974142",
     "exception": false,
     "start_time": "2020-10-13T07:52:20.914526",
     "status": "completed"
    },
    "tags": []
   },
   "outputs": [],
   "source": [
    "#Doing Average of the square feets which are given in the range (for example 2400-2600)\n",
    "def sqft(x):\n",
    "    t=x.split('-')\n",
    "    if len(t)==2:\n",
    "        return (float(t[0])+float(t[1]))/2\n",
    "    try:\n",
    "        return x\n",
    "    except:\n",
    "        return None"
   ]
  },
  {
   "cell_type": "code",
   "execution_count": 56,
   "metadata": {
    "execution": {
     "iopub.execute_input": "2020-10-13T07:52:21.139779Z",
     "iopub.status.busy": "2020-10-13T07:52:21.139168Z",
     "iopub.status.idle": "2020-10-13T07:52:21.142893Z",
     "shell.execute_reply": "2020-10-13T07:52:21.142451Z"
    },
    "papermill": {
     "duration": 0.091077,
     "end_time": "2020-10-13T07:52:21.142976",
     "exception": false,
     "start_time": "2020-10-13T07:52:21.051899",
     "status": "completed"
    },
    "tags": []
   },
   "outputs": [],
   "source": [
    "bengaluru.total_sqft=bengaluru.total_sqft.apply(sqft)"
   ]
  },
  {
   "cell_type": "code",
   "execution_count": 57,
   "metadata": {
    "execution": {
     "iopub.execute_input": "2020-10-13T07:52:21.251622Z",
     "iopub.status.busy": "2020-10-13T07:52:21.250813Z",
     "iopub.status.idle": "2020-10-13T07:52:21.254479Z",
     "shell.execute_reply": "2020-10-13T07:52:21.253937Z"
    },
    "papermill": {
     "duration": 0.060233,
     "end_time": "2020-10-13T07:52:21.254561",
     "exception": false,
     "start_time": "2020-10-13T07:52:21.194328",
     "status": "completed"
    },
    "tags": []
   },
   "outputs": [
    {
     "data": {
      "text/plain": [
       "0        1056\n",
       "1        2600\n",
       "2        1440\n",
       "3        1521\n",
       "4        1200\n",
       "         ... \n",
       "13315    3453\n",
       "13316    3600\n",
       "13317    1141\n",
       "13318    4689\n",
       "13319     550\n",
       "Name: total_sqft, Length: 13292, dtype: object"
      ]
     },
     "execution_count": 57,
     "metadata": {},
     "output_type": "execute_result"
    }
   ],
   "source": [
    "bengaluru.total_sqft"
   ]
  },
  {
   "cell_type": "code",
   "execution_count": 58,
   "metadata": {
    "execution": {
     "iopub.execute_input": "2020-10-13T07:52:21.367980Z",
     "iopub.status.busy": "2020-10-13T07:52:21.365961Z",
     "iopub.status.idle": "2020-10-13T07:52:21.370622Z",
     "shell.execute_reply": "2020-10-13T07:52:21.370972Z"
    },
    "papermill": {
     "duration": 0.06478,
     "end_time": "2020-10-13T07:52:21.371117",
     "exception": false,
     "start_time": "2020-10-13T07:52:21.306337",
     "status": "completed"
    },
    "tags": []
   },
   "outputs": [],
   "source": [
    "#Converting different units to square feet \n",
    "def change_to_sqft(x):\n",
    "    if(\"Sq. Meter\" in str(x)):\n",
    "        y=x.split(\"S\")\n",
    "        z=float(y[0])*10.76\n",
    "        return z\n",
    "    \n",
    "    elif(\"Sq. Yards\" in str(x)):\n",
    "        y=x.split(\"S\")\n",
    "        z=float(y[0])*9\n",
    "        return z\n",
    "    \n",
    "    elif(\"Guntha\" in str(x)):\n",
    "        y=x.split(\"G\")\n",
    "        z=float(y[0])*1088.98\n",
    "        return z\n",
    "    \n",
    "    elif(\"Acres\" in str(x)):\n",
    "        y=x.split(\"A\")\n",
    "        z=float(y[0])*43560\n",
    "        return z\n",
    "    \n",
    "    elif(\"Perch\" in str(x)):\n",
    "        y=x.split(\"P\")\n",
    "        z=float(y[0])*272.25\n",
    "        return z\n",
    "    \n",
    "    elif(\"Cents\" in str(x)):\n",
    "        y=x.split(\"C\")\n",
    "        z=float(y[0])*435.6\n",
    "        return z\n",
    "    \n",
    "    elif(\"Grounds\" in str(x)):\n",
    "        y=x.split(\"G\")\n",
    "        z=float(y[0])*2400\n",
    "        return z\n",
    "    \n",
    "    else:\n",
    "        return x"
   ]
  },
  {
   "cell_type": "code",
   "execution_count": 59,
   "metadata": {
    "execution": {
     "iopub.execute_input": "2020-10-13T07:52:21.488770Z",
     "iopub.status.busy": "2020-10-13T07:52:21.483827Z",
     "iopub.status.idle": "2020-10-13T07:52:21.495538Z",
     "shell.execute_reply": "2020-10-13T07:52:21.495033Z"
    },
    "papermill": {
     "duration": 0.072734,
     "end_time": "2020-10-13T07:52:21.495626",
     "exception": false,
     "start_time": "2020-10-13T07:52:21.422892",
     "status": "completed"
    },
    "tags": []
   },
   "outputs": [],
   "source": [
    "bengaluru['total_sqft']=bengaluru['total_sqft'].apply(change_to_sqft)"
   ]
  },
  {
   "cell_type": "code",
   "execution_count": 60,
   "metadata": {
    "execution": {
     "iopub.execute_input": "2020-10-13T07:52:21.608588Z",
     "iopub.status.busy": "2020-10-13T07:52:21.607764Z",
     "iopub.status.idle": "2020-10-13T07:52:21.610728Z",
     "shell.execute_reply": "2020-10-13T07:52:21.610240Z"
    },
    "papermill": {
     "duration": 0.062628,
     "end_time": "2020-10-13T07:52:21.610834",
     "exception": false,
     "start_time": "2020-10-13T07:52:21.548206",
     "status": "completed"
    },
    "tags": []
   },
   "outputs": [],
   "source": [
    "#Converting the data type of 'total_sqft' in to float64\n",
    "bengaluru['total_sqft']=bengaluru['total_sqft'].astype('float64')"
   ]
  },
  {
   "cell_type": "code",
   "execution_count": 61,
   "metadata": {
    "execution": {
     "iopub.execute_input": "2020-10-13T07:52:21.772329Z",
     "iopub.status.busy": "2020-10-13T07:52:21.771737Z",
     "iopub.status.idle": "2020-10-13T07:52:21.776652Z",
     "shell.execute_reply": "2020-10-13T07:52:21.776011Z"
    },
    "papermill": {
     "duration": 0.087731,
     "end_time": "2020-10-13T07:52:21.776760",
     "exception": false,
     "start_time": "2020-10-13T07:52:21.689029",
     "status": "completed"
    },
    "tags": []
   },
   "outputs": [
    {
     "data": {
      "text/plain": [
       "0        1056.0\n",
       "1        2600.0\n",
       "2        1440.0\n",
       "3        1521.0\n",
       "4        1200.0\n",
       "          ...  \n",
       "13315    3453.0\n",
       "13316    3600.0\n",
       "13317    1141.0\n",
       "13318    4689.0\n",
       "13319     550.0\n",
       "Name: total_sqft, Length: 13292, dtype: float64"
      ]
     },
     "execution_count": 61,
     "metadata": {},
     "output_type": "execute_result"
    }
   ],
   "source": [
    "bengaluru['total_sqft']"
   ]
  },
  {
   "cell_type": "code",
   "execution_count": 62,
   "metadata": {
    "execution": {
     "iopub.execute_input": "2020-10-13T07:52:21.939119Z",
     "iopub.status.busy": "2020-10-13T07:52:21.938643Z",
     "iopub.status.idle": "2020-10-13T07:52:21.948676Z",
     "shell.execute_reply": "2020-10-13T07:52:21.948210Z"
    },
    "papermill": {
     "duration": 0.093071,
     "end_time": "2020-10-13T07:52:21.948763",
     "exception": false,
     "start_time": "2020-10-13T07:52:21.855692",
     "status": "completed"
    },
    "tags": []
   },
   "outputs": [
    {
     "name": "stdout",
     "output_type": "stream",
     "text": [
      "<class 'pandas.core.frame.DataFrame'>\n",
      "Int64Index: 13292 entries, 0 to 13319\n",
      "Data columns (total 9 columns):\n",
      " #   Column        Non-Null Count  Dtype   \n",
      "---  ------        --------------  -----   \n",
      " 0   area_type     13292 non-null  category\n",
      " 1   availability  13292 non-null  category\n",
      " 2   location      13292 non-null  object  \n",
      " 3   size          13292 non-null  category\n",
      " 4   society       13292 non-null  object  \n",
      " 5   total_sqft    13292 non-null  float64 \n",
      " 6   bath          13235 non-null  float64 \n",
      " 7   balcony       12703 non-null  float64 \n",
      " 8   price         13292 non-null  float64 \n",
      "dtypes: category(3), float64(4), object(2)\n",
      "memory usage: 766.5+ KB\n"
     ]
    }
   ],
   "source": [
    "bengaluru.info()"
   ]
  },
  {
   "cell_type": "code",
   "execution_count": 63,
   "metadata": {
    "execution": {
     "iopub.execute_input": "2020-10-13T07:52:22.075703Z",
     "iopub.status.busy": "2020-10-13T07:52:22.075211Z",
     "iopub.status.idle": "2020-10-13T07:52:22.079788Z",
     "shell.execute_reply": "2020-10-13T07:52:22.079380Z"
    },
    "papermill": {
     "duration": 0.07811,
     "end_time": "2020-10-13T07:52:22.079867",
     "exception": false,
     "start_time": "2020-10-13T07:52:22.001757",
     "status": "completed"
    },
    "tags": []
   },
   "outputs": [
    {
     "data": {
      "text/html": [
       "<div>\n",
       "<style scoped>\n",
       "    .dataframe tbody tr th:only-of-type {\n",
       "        vertical-align: middle;\n",
       "    }\n",
       "\n",
       "    .dataframe tbody tr th {\n",
       "        vertical-align: top;\n",
       "    }\n",
       "\n",
       "    .dataframe thead th {\n",
       "        text-align: right;\n",
       "    }\n",
       "</style>\n",
       "<table border=\"1\" class=\"dataframe\">\n",
       "  <thead>\n",
       "    <tr style=\"text-align: right;\">\n",
       "      <th></th>\n",
       "      <th>area_type</th>\n",
       "      <th>availability</th>\n",
       "      <th>location</th>\n",
       "      <th>size</th>\n",
       "      <th>society</th>\n",
       "      <th>total_sqft</th>\n",
       "      <th>bath</th>\n",
       "      <th>balcony</th>\n",
       "      <th>price</th>\n",
       "    </tr>\n",
       "  </thead>\n",
       "  <tbody>\n",
       "    <tr>\n",
       "      <th>5393</th>\n",
       "      <td>Super built-up  Area</td>\n",
       "      <td>Ready To Move</td>\n",
       "      <td>Others</td>\n",
       "      <td>9</td>\n",
       "      <td>Information Not Available</td>\n",
       "      <td>42000.0</td>\n",
       "      <td>8.0</td>\n",
       "      <td>3.0</td>\n",
       "      <td>175.00</td>\n",
       "    </tr>\n",
       "    <tr>\n",
       "      <th>2386</th>\n",
       "      <td>Super built-up  Area</td>\n",
       "      <td>Ready To Move</td>\n",
       "      <td>Sector 7 HSR Layout</td>\n",
       "      <td>3</td>\n",
       "      <td>Saitya</td>\n",
       "      <td>1760.0</td>\n",
       "      <td>3.0</td>\n",
       "      <td>2.0</td>\n",
       "      <td>145.00</td>\n",
       "    </tr>\n",
       "    <tr>\n",
       "      <th>10041</th>\n",
       "      <td>Super built-up  Area</td>\n",
       "      <td>Ready To Move</td>\n",
       "      <td>Mahadevpura</td>\n",
       "      <td>3</td>\n",
       "      <td>Information Not Available</td>\n",
       "      <td>1505.0</td>\n",
       "      <td>3.0</td>\n",
       "      <td>2.0</td>\n",
       "      <td>78.00</td>\n",
       "    </tr>\n",
       "    <tr>\n",
       "      <th>13088</th>\n",
       "      <td>Super built-up  Area</td>\n",
       "      <td>Ready To Move</td>\n",
       "      <td>Uttarahalli</td>\n",
       "      <td>3</td>\n",
       "      <td>Others</td>\n",
       "      <td>1290.0</td>\n",
       "      <td>2.0</td>\n",
       "      <td>2.0</td>\n",
       "      <td>56.12</td>\n",
       "    </tr>\n",
       "    <tr>\n",
       "      <th>970</th>\n",
       "      <td>Built-up  Area</td>\n",
       "      <td>Ready To Move</td>\n",
       "      <td>Others</td>\n",
       "      <td>1</td>\n",
       "      <td>Information Not Available</td>\n",
       "      <td>530.0</td>\n",
       "      <td>1.0</td>\n",
       "      <td>1.0</td>\n",
       "      <td>20.00</td>\n",
       "    </tr>\n",
       "    <tr>\n",
       "      <th>3869</th>\n",
       "      <td>Super built-up  Area</td>\n",
       "      <td>Available Soon</td>\n",
       "      <td>Whitefield</td>\n",
       "      <td>2</td>\n",
       "      <td>Information Not Available</td>\n",
       "      <td>1200.0</td>\n",
       "      <td>2.0</td>\n",
       "      <td>1.0</td>\n",
       "      <td>45.84</td>\n",
       "    </tr>\n",
       "    <tr>\n",
       "      <th>11783</th>\n",
       "      <td>Built-up  Area</td>\n",
       "      <td>Ready To Move</td>\n",
       "      <td>8th Phase JP Nagar</td>\n",
       "      <td>5</td>\n",
       "      <td>Information Not Available</td>\n",
       "      <td>1730.0</td>\n",
       "      <td>5.0</td>\n",
       "      <td>2.0</td>\n",
       "      <td>75.00</td>\n",
       "    </tr>\n",
       "    <tr>\n",
       "      <th>12343</th>\n",
       "      <td>Super built-up  Area</td>\n",
       "      <td>Ready To Move</td>\n",
       "      <td>Sarjapur  Road</td>\n",
       "      <td>2</td>\n",
       "      <td>Others</td>\n",
       "      <td>1197.0</td>\n",
       "      <td>2.0</td>\n",
       "      <td>1.0</td>\n",
       "      <td>56.86</td>\n",
       "    </tr>\n",
       "    <tr>\n",
       "      <th>5574</th>\n",
       "      <td>Super built-up  Area</td>\n",
       "      <td>Ready To Move</td>\n",
       "      <td>Kanakpura Road</td>\n",
       "      <td>3</td>\n",
       "      <td>PuandHi</td>\n",
       "      <td>1843.0</td>\n",
       "      <td>3.0</td>\n",
       "      <td>2.0</td>\n",
       "      <td>82.00</td>\n",
       "    </tr>\n",
       "    <tr>\n",
       "      <th>6319</th>\n",
       "      <td>Plot  Area</td>\n",
       "      <td>Ready To Move</td>\n",
       "      <td>TC Palaya</td>\n",
       "      <td>4</td>\n",
       "      <td>Information Not Available</td>\n",
       "      <td>600.0</td>\n",
       "      <td>4.0</td>\n",
       "      <td>0.0</td>\n",
       "      <td>65.00</td>\n",
       "    </tr>\n",
       "  </tbody>\n",
       "</table>\n",
       "</div>"
      ],
      "text/plain": [
       "                  area_type    availability             location size  \\\n",
       "5393   Super built-up  Area   Ready To Move               Others    9   \n",
       "2386   Super built-up  Area   Ready To Move  Sector 7 HSR Layout    3   \n",
       "10041  Super built-up  Area   Ready To Move          Mahadevpura    3   \n",
       "13088  Super built-up  Area   Ready To Move          Uttarahalli    3   \n",
       "970          Built-up  Area   Ready To Move               Others    1   \n",
       "3869   Super built-up  Area  Available Soon           Whitefield    2   \n",
       "11783        Built-up  Area   Ready To Move   8th Phase JP Nagar    5   \n",
       "12343  Super built-up  Area   Ready To Move       Sarjapur  Road    2   \n",
       "5574   Super built-up  Area   Ready To Move       Kanakpura Road    3   \n",
       "6319             Plot  Area   Ready To Move            TC Palaya    4   \n",
       "\n",
       "                         society  total_sqft  bath  balcony   price  \n",
       "5393   Information Not Available     42000.0   8.0      3.0  175.00  \n",
       "2386                     Saitya       1760.0   3.0      2.0  145.00  \n",
       "10041  Information Not Available      1505.0   3.0      2.0   78.00  \n",
       "13088                     Others      1290.0   2.0      2.0   56.12  \n",
       "970    Information Not Available       530.0   1.0      1.0   20.00  \n",
       "3869   Information Not Available      1200.0   2.0      1.0   45.84  \n",
       "11783  Information Not Available      1730.0   5.0      2.0   75.00  \n",
       "12343                     Others      1197.0   2.0      1.0   56.86  \n",
       "5574                     PuandHi      1843.0   3.0      2.0   82.00  \n",
       "6319   Information Not Available       600.0   4.0      0.0   65.00  "
      ]
     },
     "execution_count": 63,
     "metadata": {},
     "output_type": "execute_result"
    }
   ],
   "source": [
    "bengaluru.sample(10)"
   ]
  },
  {
   "cell_type": "code",
   "execution_count": 64,
   "metadata": {
    "execution": {
     "iopub.execute_input": "2020-10-13T07:52:22.191243Z",
     "iopub.status.busy": "2020-10-13T07:52:22.190740Z",
     "iopub.status.idle": "2020-10-13T07:52:22.195081Z",
     "shell.execute_reply": "2020-10-13T07:52:22.194503Z"
    },
    "papermill": {
     "duration": 0.06234,
     "end_time": "2020-10-13T07:52:22.195210",
     "exception": false,
     "start_time": "2020-10-13T07:52:22.132870",
     "status": "completed"
    },
    "tags": []
   },
   "outputs": [],
   "source": [
    "# 7.Balcony"
   ]
  },
  {
   "cell_type": "code",
   "execution_count": 65,
   "metadata": {
    "execution": {
     "iopub.execute_input": "2020-10-13T07:52:22.367053Z",
     "iopub.status.busy": "2020-10-13T07:52:22.364260Z",
     "iopub.status.idle": "2020-10-13T07:52:22.370717Z",
     "shell.execute_reply": "2020-10-13T07:52:22.371060Z"
    },
    "papermill": {
     "duration": 0.093276,
     "end_time": "2020-10-13T07:52:22.371169",
     "exception": false,
     "start_time": "2020-10-13T07:52:22.277893",
     "status": "completed"
    },
    "tags": []
   },
   "outputs": [
    {
     "data": {
      "text/plain": [
       "2.0    5112\n",
       "1.0    4897\n",
       "3.0    1670\n",
       "0.0    1024\n",
       "Name: balcony, dtype: int64"
      ]
     },
     "execution_count": 65,
     "metadata": {},
     "output_type": "execute_result"
    }
   ],
   "source": [
    "bengaluru['balcony'].value_counts()"
   ]
  },
  {
   "cell_type": "code",
   "execution_count": 66,
   "metadata": {
    "execution": {
     "iopub.execute_input": "2020-10-13T07:52:22.484742Z",
     "iopub.status.busy": "2020-10-13T07:52:22.484179Z",
     "iopub.status.idle": "2020-10-13T07:52:22.487769Z",
     "shell.execute_reply": "2020-10-13T07:52:22.487326Z"
    },
    "papermill": {
     "duration": 0.062352,
     "end_time": "2020-10-13T07:52:22.487855",
     "exception": false,
     "start_time": "2020-10-13T07:52:22.425503",
     "status": "completed"
    },
    "tags": []
   },
   "outputs": [],
   "source": [
    "#Filling the NaN values to the mode of the column which is 2.0\n",
    "bengaluru[\"balcony\"]=bengaluru[\"balcony\"].fillna(bengaluru[\"balcony\"].mode()[0])"
   ]
  },
  {
   "cell_type": "code",
   "execution_count": 67,
   "metadata": {
    "execution": {
     "iopub.execute_input": "2020-10-13T07:52:22.601129Z",
     "iopub.status.busy": "2020-10-13T07:52:22.600496Z",
     "iopub.status.idle": "2020-10-13T07:52:22.603093Z",
     "shell.execute_reply": "2020-10-13T07:52:22.602703Z"
    },
    "papermill": {
     "duration": 0.061194,
     "end_time": "2020-10-13T07:52:22.603177",
     "exception": false,
     "start_time": "2020-10-13T07:52:22.541983",
     "status": "completed"
    },
    "tags": []
   },
   "outputs": [],
   "source": [
    "bengaluru[\"balcony\"]=bengaluru[\"balcony\"].astype('int32')"
   ]
  },
  {
   "cell_type": "code",
   "execution_count": 68,
   "metadata": {
    "execution": {
     "iopub.execute_input": "2020-10-13T07:52:22.716839Z",
     "iopub.status.busy": "2020-10-13T07:52:22.716173Z",
     "iopub.status.idle": "2020-10-13T07:52:22.720806Z",
     "shell.execute_reply": "2020-10-13T07:52:22.720363Z"
    },
    "papermill": {
     "duration": 0.063239,
     "end_time": "2020-10-13T07:52:22.720884",
     "exception": false,
     "start_time": "2020-10-13T07:52:22.657645",
     "status": "completed"
    },
    "tags": []
   },
   "outputs": [],
   "source": [
    "#Converting the data type to 'category' because there are 3 categories present now\n",
    "bengaluru[\"balcony\"]=bengaluru[\"balcony\"].astype('category')"
   ]
  },
  {
   "cell_type": "code",
   "execution_count": 69,
   "metadata": {
    "execution": {
     "iopub.execute_input": "2020-10-13T07:52:22.834609Z",
     "iopub.status.busy": "2020-10-13T07:52:22.832256Z",
     "iopub.status.idle": "2020-10-13T07:52:22.845270Z",
     "shell.execute_reply": "2020-10-13T07:52:22.845664Z"
    },
    "papermill": {
     "duration": 0.071151,
     "end_time": "2020-10-13T07:52:22.845781",
     "exception": false,
     "start_time": "2020-10-13T07:52:22.774630",
     "status": "completed"
    },
    "tags": []
   },
   "outputs": [
    {
     "name": "stdout",
     "output_type": "stream",
     "text": [
      "<class 'pandas.core.frame.DataFrame'>\n",
      "Int64Index: 13292 entries, 0 to 13319\n",
      "Data columns (total 9 columns):\n",
      " #   Column        Non-Null Count  Dtype   \n",
      "---  ------        --------------  -----   \n",
      " 0   area_type     13292 non-null  category\n",
      " 1   availability  13292 non-null  category\n",
      " 2   location      13292 non-null  object  \n",
      " 3   size          13292 non-null  category\n",
      " 4   society       13292 non-null  object  \n",
      " 5   total_sqft    13292 non-null  float64 \n",
      " 6   bath          13235 non-null  float64 \n",
      " 7   balcony       13292 non-null  category\n",
      " 8   price         13292 non-null  float64 \n",
      "dtypes: category(4), float64(3), object(2)\n",
      "memory usage: 675.8+ KB\n"
     ]
    }
   ],
   "source": [
    "bengaluru.info()"
   ]
  },
  {
   "cell_type": "code",
   "execution_count": 70,
   "metadata": {
    "execution": {
     "iopub.execute_input": "2020-10-13T07:52:22.970851Z",
     "iopub.status.busy": "2020-10-13T07:52:22.970148Z",
     "iopub.status.idle": "2020-10-13T07:52:22.974884Z",
     "shell.execute_reply": "2020-10-13T07:52:22.974325Z"
    },
    "papermill": {
     "duration": 0.073618,
     "end_time": "2020-10-13T07:52:22.974991",
     "exception": false,
     "start_time": "2020-10-13T07:52:22.901373",
     "status": "completed"
    },
    "tags": []
   },
   "outputs": [
    {
     "data": {
      "text/html": [
       "<div>\n",
       "<style scoped>\n",
       "    .dataframe tbody tr th:only-of-type {\n",
       "        vertical-align: middle;\n",
       "    }\n",
       "\n",
       "    .dataframe tbody tr th {\n",
       "        vertical-align: top;\n",
       "    }\n",
       "\n",
       "    .dataframe thead th {\n",
       "        text-align: right;\n",
       "    }\n",
       "</style>\n",
       "<table border=\"1\" class=\"dataframe\">\n",
       "  <thead>\n",
       "    <tr style=\"text-align: right;\">\n",
       "      <th></th>\n",
       "      <th>area_type</th>\n",
       "      <th>availability</th>\n",
       "      <th>location</th>\n",
       "      <th>size</th>\n",
       "      <th>society</th>\n",
       "      <th>total_sqft</th>\n",
       "      <th>bath</th>\n",
       "      <th>balcony</th>\n",
       "      <th>price</th>\n",
       "    </tr>\n",
       "  </thead>\n",
       "  <tbody>\n",
       "    <tr>\n",
       "      <th>4166</th>\n",
       "      <td>Super built-up  Area</td>\n",
       "      <td>Ready To Move</td>\n",
       "      <td>Doddathoguru</td>\n",
       "      <td>2</td>\n",
       "      <td>Others</td>\n",
       "      <td>915.0</td>\n",
       "      <td>2.0</td>\n",
       "      <td>1</td>\n",
       "      <td>32.0</td>\n",
       "    </tr>\n",
       "    <tr>\n",
       "      <th>12321</th>\n",
       "      <td>Super built-up  Area</td>\n",
       "      <td>Ready To Move</td>\n",
       "      <td>Brookefield</td>\n",
       "      <td>2</td>\n",
       "      <td>Others</td>\n",
       "      <td>1382.0</td>\n",
       "      <td>2.0</td>\n",
       "      <td>2</td>\n",
       "      <td>84.5</td>\n",
       "    </tr>\n",
       "    <tr>\n",
       "      <th>6263</th>\n",
       "      <td>Super built-up  Area</td>\n",
       "      <td>Ready To Move</td>\n",
       "      <td>Kalyan nagar</td>\n",
       "      <td>2</td>\n",
       "      <td>Others</td>\n",
       "      <td>1198.0</td>\n",
       "      <td>2.0</td>\n",
       "      <td>1</td>\n",
       "      <td>65.0</td>\n",
       "    </tr>\n",
       "    <tr>\n",
       "      <th>2068</th>\n",
       "      <td>Super built-up  Area</td>\n",
       "      <td>Ready To Move</td>\n",
       "      <td>Brookefield</td>\n",
       "      <td>3</td>\n",
       "      <td>Others</td>\n",
       "      <td>1476.0</td>\n",
       "      <td>3.0</td>\n",
       "      <td>2</td>\n",
       "      <td>105.0</td>\n",
       "    </tr>\n",
       "    <tr>\n",
       "      <th>8534</th>\n",
       "      <td>Super built-up  Area</td>\n",
       "      <td>Ready To Move</td>\n",
       "      <td>OMBR Layout</td>\n",
       "      <td>2</td>\n",
       "      <td>Information Not Available</td>\n",
       "      <td>1165.0</td>\n",
       "      <td>2.0</td>\n",
       "      <td>2</td>\n",
       "      <td>88.5</td>\n",
       "    </tr>\n",
       "  </tbody>\n",
       "</table>\n",
       "</div>"
      ],
      "text/plain": [
       "                  area_type   availability      location size  \\\n",
       "4166   Super built-up  Area  Ready To Move  Doddathoguru    2   \n",
       "12321  Super built-up  Area  Ready To Move   Brookefield    2   \n",
       "6263   Super built-up  Area  Ready To Move  Kalyan nagar    2   \n",
       "2068   Super built-up  Area  Ready To Move   Brookefield    3   \n",
       "8534   Super built-up  Area  Ready To Move   OMBR Layout    2   \n",
       "\n",
       "                         society  total_sqft  bath balcony  price  \n",
       "4166                      Others       915.0   2.0       1   32.0  \n",
       "12321                     Others      1382.0   2.0       2   84.5  \n",
       "6263                      Others      1198.0   2.0       1   65.0  \n",
       "2068                      Others      1476.0   3.0       2  105.0  \n",
       "8534   Information Not Available      1165.0   2.0       2   88.5  "
      ]
     },
     "execution_count": 70,
     "metadata": {},
     "output_type": "execute_result"
    }
   ],
   "source": [
    "bengaluru.sample(5)"
   ]
  },
  {
   "cell_type": "code",
   "execution_count": 71,
   "metadata": {
    "execution": {
     "iopub.execute_input": "2020-10-13T07:52:23.143630Z",
     "iopub.status.busy": "2020-10-13T07:52:23.142967Z",
     "iopub.status.idle": "2020-10-13T07:52:23.147702Z",
     "shell.execute_reply": "2020-10-13T07:52:23.149011Z"
    },
    "papermill": {
     "duration": 0.091637,
     "end_time": "2020-10-13T07:52:23.149213",
     "exception": false,
     "start_time": "2020-10-13T07:52:23.057576",
     "status": "completed"
    },
    "tags": []
   },
   "outputs": [],
   "source": [
    "# 8.Bath"
   ]
  },
  {
   "cell_type": "code",
   "execution_count": 72,
   "metadata": {
    "execution": {
     "iopub.execute_input": "2020-10-13T07:52:23.323524Z",
     "iopub.status.busy": "2020-10-13T07:52:23.322927Z",
     "iopub.status.idle": "2020-10-13T07:52:23.328464Z",
     "shell.execute_reply": "2020-10-13T07:52:23.328030Z"
    },
    "papermill": {
     "duration": 0.092015,
     "end_time": "2020-10-13T07:52:23.328554",
     "exception": false,
     "start_time": "2020-10-13T07:52:23.236539",
     "status": "completed"
    },
    "tags": []
   },
   "outputs": [
    {
     "data": {
      "text/plain": [
       "2.0     6908\n",
       "3.0     3286\n",
       "4.0     1226\n",
       "1.0      788\n",
       "5.0      524\n",
       "6.0      271\n",
       "7.0      102\n",
       "8.0       64\n",
       "9.0       42\n",
       "10.0      13\n",
       "12.0       6\n",
       "13.0       2\n",
       "11.0       2\n",
       "14.0       1\n",
       "Name: bath, dtype: int64"
      ]
     },
     "execution_count": 72,
     "metadata": {},
     "output_type": "execute_result"
    }
   ],
   "source": [
    "bengaluru['bath'].value_counts()"
   ]
  },
  {
   "cell_type": "code",
   "execution_count": 73,
   "metadata": {
    "execution": {
     "iopub.execute_input": "2020-10-13T07:52:23.444546Z",
     "iopub.status.busy": "2020-10-13T07:52:23.443777Z",
     "iopub.status.idle": "2020-10-13T07:52:23.448435Z",
     "shell.execute_reply": "2020-10-13T07:52:23.447975Z"
    },
    "papermill": {
     "duration": 0.064594,
     "end_time": "2020-10-13T07:52:23.448522",
     "exception": false,
     "start_time": "2020-10-13T07:52:23.383928",
     "status": "completed"
    },
    "tags": []
   },
   "outputs": [],
   "source": [
    "#Filling the NaN values to the mode of the column which is 2.0\n",
    "bengaluru[\"bath\"]=bengaluru[\"bath\"].fillna(bengaluru[\"bath\"].mode()[0])"
   ]
  },
  {
   "cell_type": "code",
   "execution_count": 74,
   "metadata": {
    "execution": {
     "iopub.execute_input": "2020-10-13T07:52:23.565538Z",
     "iopub.status.busy": "2020-10-13T07:52:23.564969Z",
     "iopub.status.idle": "2020-10-13T07:52:23.568040Z",
     "shell.execute_reply": "2020-10-13T07:52:23.567682Z"
    },
    "papermill": {
     "duration": 0.063693,
     "end_time": "2020-10-13T07:52:23.568130",
     "exception": false,
     "start_time": "2020-10-13T07:52:23.504437",
     "status": "completed"
    },
    "tags": []
   },
   "outputs": [],
   "source": [
    "#Converting the data type to 'int32' \n",
    "bengaluru[\"bath\"]=bengaluru[\"bath\"].astype('int32')"
   ]
  },
  {
   "cell_type": "code",
   "execution_count": 75,
   "metadata": {
    "execution": {
     "iopub.execute_input": "2020-10-13T07:52:23.684829Z",
     "iopub.status.busy": "2020-10-13T07:52:23.682979Z",
     "iopub.status.idle": "2020-10-13T07:52:23.695728Z",
     "shell.execute_reply": "2020-10-13T07:52:23.695210Z"
    },
    "papermill": {
     "duration": 0.072972,
     "end_time": "2020-10-13T07:52:23.695840",
     "exception": false,
     "start_time": "2020-10-13T07:52:23.622868",
     "status": "completed"
    },
    "tags": []
   },
   "outputs": [
    {
     "name": "stdout",
     "output_type": "stream",
     "text": [
      "<class 'pandas.core.frame.DataFrame'>\n",
      "Int64Index: 13292 entries, 0 to 13319\n",
      "Data columns (total 9 columns):\n",
      " #   Column        Non-Null Count  Dtype   \n",
      "---  ------        --------------  -----   \n",
      " 0   area_type     13292 non-null  category\n",
      " 1   availability  13292 non-null  category\n",
      " 2   location      13292 non-null  object  \n",
      " 3   size          13292 non-null  category\n",
      " 4   society       13292 non-null  object  \n",
      " 5   total_sqft    13292 non-null  float64 \n",
      " 6   bath          13292 non-null  int32   \n",
      " 7   balcony       13292 non-null  category\n",
      " 8   price         13292 non-null  float64 \n",
      "dtypes: category(4), float64(2), int32(1), object(2)\n",
      "memory usage: 623.9+ KB\n"
     ]
    }
   ],
   "source": [
    "bengaluru.info()"
   ]
  },
  {
   "cell_type": "code",
   "execution_count": 76,
   "metadata": {
    "execution": {
     "iopub.execute_input": "2020-10-13T07:52:23.819780Z",
     "iopub.status.busy": "2020-10-13T07:52:23.815488Z",
     "iopub.status.idle": "2020-10-13T07:52:23.928940Z",
     "shell.execute_reply": "2020-10-13T07:52:23.928439Z"
    },
    "papermill": {
     "duration": 0.175975,
     "end_time": "2020-10-13T07:52:23.929024",
     "exception": false,
     "start_time": "2020-10-13T07:52:23.753049",
     "status": "completed"
    },
    "tags": []
   },
   "outputs": [
    {
     "data": {
      "text/plain": [
       "<matplotlib.axes._subplots.AxesSubplot at 0x7f212805bc10>"
      ]
     },
     "execution_count": 76,
     "metadata": {},
     "output_type": "execute_result"
    },
    {
     "data": {
      "image/png": "[encoded data removed]",
      "text/plain": [
       "<Figure size 432x288 with 1 Axes>"
      ]
     },
     "metadata": {
      "needs_background": "light"
     },
     "output_type": "display_data"
    }
   ],
   "source": [
    "sns.boxplot(bengaluru['bath'])"
   ]
  },
  {
   "cell_type": "code",
   "execution_count": 77,
   "metadata": {
    "execution": {
     "iopub.execute_input": "2020-10-13T07:52:24.049768Z",
     "iopub.status.busy": "2020-10-13T07:52:24.049232Z",
     "iopub.status.idle": "2020-10-13T07:52:24.055782Z",
     "shell.execute_reply": "2020-10-13T07:52:24.055420Z"
    },
    "papermill": {
     "duration": 0.069005,
     "end_time": "2020-10-13T07:52:24.055860",
     "exception": false,
     "start_time": "2020-10-13T07:52:23.986855",
     "status": "completed"
    },
    "tags": []
   },
   "outputs": [],
   "source": [
    "#Removing the outliers which are insane\n",
    "bengaluru=bengaluru.drop(bengaluru[bengaluru['bath']>5].index)"
   ]
  },
  {
   "cell_type": "code",
   "execution_count": 78,
   "metadata": {
    "execution": {
     "iopub.execute_input": "2020-10-13T07:52:24.173855Z",
     "iopub.status.busy": "2020-10-13T07:52:24.173332Z",
     "iopub.status.idle": "2020-10-13T07:52:24.176381Z",
     "shell.execute_reply": "2020-10-13T07:52:24.175916Z"
    },
    "papermill": {
     "duration": 0.06438,
     "end_time": "2020-10-13T07:52:24.176468",
     "exception": false,
     "start_time": "2020-10-13T07:52:24.112088",
     "status": "completed"
    },
    "tags": []
   },
   "outputs": [],
   "source": [
    "bengaluru[\"bath\"]=bengaluru[\"bath\"].astype('int32')"
   ]
  },
  {
   "cell_type": "code",
   "execution_count": 79,
   "metadata": {
    "execution": {
     "iopub.execute_input": "2020-10-13T07:52:24.300244Z",
     "iopub.status.busy": "2020-10-13T07:52:24.299644Z",
     "iopub.status.idle": "2020-10-13T07:52:24.304451Z",
     "shell.execute_reply": "2020-10-13T07:52:24.303770Z"
    },
    "papermill": {
     "duration": 0.069556,
     "end_time": "2020-10-13T07:52:24.304562",
     "exception": false,
     "start_time": "2020-10-13T07:52:24.235006",
     "status": "completed"
    },
    "tags": []
   },
   "outputs": [
    {
     "data": {
      "text/plain": [
       "0        2\n",
       "1        5\n",
       "2        2\n",
       "3        3\n",
       "4        2\n",
       "        ..\n",
       "13315    4\n",
       "13316    5\n",
       "13317    2\n",
       "13318    4\n",
       "13319    1\n",
       "Name: bath, Length: 12789, dtype: int32"
      ]
     },
     "execution_count": 79,
     "metadata": {},
     "output_type": "execute_result"
    }
   ],
   "source": [
    "bengaluru['bath']"
   ]
  },
  {
   "cell_type": "code",
   "execution_count": 80,
   "metadata": {
    "execution": {
     "iopub.execute_input": "2020-10-13T07:52:24.469319Z",
     "iopub.status.busy": "2020-10-13T07:52:24.468701Z",
     "iopub.status.idle": "2020-10-13T07:52:24.471460Z",
     "shell.execute_reply": "2020-10-13T07:52:24.471040Z"
    },
    "papermill": {
     "duration": 0.079926,
     "end_time": "2020-10-13T07:52:24.471544",
     "exception": false,
     "start_time": "2020-10-13T07:52:24.391618",
     "status": "completed"
    },
    "tags": []
   },
   "outputs": [],
   "source": [
    "#Converting the data type to 'category' because there are 5 categories present now\n",
    "bengaluru[\"bath\"]=bengaluru[\"bath\"].astype('category')"
   ]
  },
  {
   "cell_type": "code",
   "execution_count": 81,
   "metadata": {
    "execution": {
     "iopub.execute_input": "2020-10-13T07:52:24.592461Z",
     "iopub.status.busy": "2020-10-13T07:52:24.590741Z",
     "iopub.status.idle": "2020-10-13T07:52:24.603161Z",
     "shell.execute_reply": "2020-10-13T07:52:24.602769Z"
    },
    "papermill": {
     "duration": 0.074257,
     "end_time": "2020-10-13T07:52:24.603264",
     "exception": false,
     "start_time": "2020-10-13T07:52:24.529007",
     "status": "completed"
    },
    "tags": []
   },
   "outputs": [
    {
     "name": "stdout",
     "output_type": "stream",
     "text": [
      "<class 'pandas.core.frame.DataFrame'>\n",
      "Int64Index: 12789 entries, 0 to 13319\n",
      "Data columns (total 9 columns):\n",
      " #   Column        Non-Null Count  Dtype   \n",
      "---  ------        --------------  -----   \n",
      " 0   area_type     12789 non-null  category\n",
      " 1   availability  12789 non-null  category\n",
      " 2   location      12789 non-null  object  \n",
      " 3   size          12789 non-null  category\n",
      " 4   society       12789 non-null  object  \n",
      " 5   total_sqft    12789 non-null  float64 \n",
      " 6   bath          12789 non-null  category\n",
      " 7   balcony       12789 non-null  category\n",
      " 8   price         12789 non-null  float64 \n",
      "dtypes: category(5), float64(2), object(2)\n",
      "memory usage: 563.1+ KB\n"
     ]
    }
   ],
   "source": [
    "bengaluru.info()"
   ]
  },
  {
   "cell_type": "code",
   "execution_count": 82,
   "metadata": {
    "execution": {
     "iopub.execute_input": "2020-10-13T07:52:24.733534Z",
     "iopub.status.busy": "2020-10-13T07:52:24.732967Z",
     "iopub.status.idle": "2020-10-13T07:52:24.737784Z",
     "shell.execute_reply": "2020-10-13T07:52:24.737328Z"
    },
    "papermill": {
     "duration": 0.076487,
     "end_time": "2020-10-13T07:52:24.737871",
     "exception": false,
     "start_time": "2020-10-13T07:52:24.661384",
     "status": "completed"
    },
    "tags": []
   },
   "outputs": [
    {
     "data": {
      "text/html": [
       "<div>\n",
       "<style scoped>\n",
       "    .dataframe tbody tr th:only-of-type {\n",
       "        vertical-align: middle;\n",
       "    }\n",
       "\n",
       "    .dataframe tbody tr th {\n",
       "        vertical-align: top;\n",
       "    }\n",
       "\n",
       "    .dataframe thead th {\n",
       "        text-align: right;\n",
       "    }\n",
       "</style>\n",
       "<table border=\"1\" class=\"dataframe\">\n",
       "  <thead>\n",
       "    <tr style=\"text-align: right;\">\n",
       "      <th></th>\n",
       "      <th>area_type</th>\n",
       "      <th>availability</th>\n",
       "      <th>location</th>\n",
       "      <th>size</th>\n",
       "      <th>society</th>\n",
       "      <th>total_sqft</th>\n",
       "      <th>bath</th>\n",
       "      <th>balcony</th>\n",
       "      <th>price</th>\n",
       "    </tr>\n",
       "  </thead>\n",
       "  <tbody>\n",
       "    <tr>\n",
       "      <th>837</th>\n",
       "      <td>Super built-up  Area</td>\n",
       "      <td>Available Soon</td>\n",
       "      <td>Kanakpura Road</td>\n",
       "      <td>2</td>\n",
       "      <td>Wiowsri</td>\n",
       "      <td>1180.0</td>\n",
       "      <td>2</td>\n",
       "      <td>2</td>\n",
       "      <td>57.00</td>\n",
       "    </tr>\n",
       "    <tr>\n",
       "      <th>11798</th>\n",
       "      <td>Super built-up  Area</td>\n",
       "      <td>Available Soon</td>\n",
       "      <td>Electronics City Phase 1</td>\n",
       "      <td>2</td>\n",
       "      <td>Others</td>\n",
       "      <td>1032.0</td>\n",
       "      <td>2</td>\n",
       "      <td>1</td>\n",
       "      <td>31.99</td>\n",
       "    </tr>\n",
       "    <tr>\n",
       "      <th>1625</th>\n",
       "      <td>Built-up  Area</td>\n",
       "      <td>Ready To Move</td>\n",
       "      <td>Nagarbhavi</td>\n",
       "      <td>3</td>\n",
       "      <td>Information Not Available</td>\n",
       "      <td>2400.0</td>\n",
       "      <td>3</td>\n",
       "      <td>0</td>\n",
       "      <td>160.00</td>\n",
       "    </tr>\n",
       "    <tr>\n",
       "      <th>1468</th>\n",
       "      <td>Super built-up  Area</td>\n",
       "      <td>Available Soon</td>\n",
       "      <td>Electronic City</td>\n",
       "      <td>2</td>\n",
       "      <td>Prarkun</td>\n",
       "      <td>1128.0</td>\n",
       "      <td>2</td>\n",
       "      <td>1</td>\n",
       "      <td>65.65</td>\n",
       "    </tr>\n",
       "    <tr>\n",
       "      <th>7488</th>\n",
       "      <td>Super built-up  Area</td>\n",
       "      <td>Ready To Move</td>\n",
       "      <td>Vijayanagar</td>\n",
       "      <td>2</td>\n",
       "      <td>Others</td>\n",
       "      <td>1019.0</td>\n",
       "      <td>2</td>\n",
       "      <td>1</td>\n",
       "      <td>58.00</td>\n",
       "    </tr>\n",
       "  </tbody>\n",
       "</table>\n",
       "</div>"
      ],
      "text/plain": [
       "                  area_type    availability                  location size  \\\n",
       "837    Super built-up  Area  Available Soon            Kanakpura Road    2   \n",
       "11798  Super built-up  Area  Available Soon  Electronics City Phase 1    2   \n",
       "1625         Built-up  Area   Ready To Move                Nagarbhavi    3   \n",
       "1468   Super built-up  Area  Available Soon           Electronic City    2   \n",
       "7488   Super built-up  Area   Ready To Move               Vijayanagar    2   \n",
       "\n",
       "                         society  total_sqft bath balcony   price  \n",
       "837                      Wiowsri      1180.0    2       2   57.00  \n",
       "11798                     Others      1032.0    2       1   31.99  \n",
       "1625   Information Not Available      2400.0    3       0  160.00  \n",
       "1468                     Prarkun      1128.0    2       1   65.65  \n",
       "7488                      Others      1019.0    2       1   58.00  "
      ]
     },
     "execution_count": 82,
     "metadata": {},
     "output_type": "execute_result"
    }
   ],
   "source": [
    "bengaluru.sample(5)"
   ]
  },
  {
   "cell_type": "code",
   "execution_count": 83,
   "metadata": {
    "execution": {
     "iopub.execute_input": "2020-10-13T07:52:24.858643Z",
     "iopub.status.busy": "2020-10-13T07:52:24.858175Z",
     "iopub.status.idle": "2020-10-13T07:52:24.860835Z",
     "shell.execute_reply": "2020-10-13T07:52:24.860479Z"
    },
    "papermill": {
     "duration": 0.0643,
     "end_time": "2020-10-13T07:52:24.860915",
     "exception": false,
     "start_time": "2020-10-13T07:52:24.796615",
     "status": "completed"
    },
    "tags": []
   },
   "outputs": [],
   "source": [
    "#Conclusion\n",
    "\n",
    "#The dataframe is cleaned and can be used for further analysis(EDA)."
   ]
  }
 ],
 "metadata": {
  "kernelspec": {
   "display_name": "Python 3",
   "language": "python",
   "name": "python3"
  },
  "language_info": {
   "codemirror_mode": {
    "name": "ipython",
    "version": 3
   },
   "file_extension": ".py",
   "mimetype": "text/x-python",
   "name": "python",
   "nbconvert_exporter": "python",
   "pygments_lexer": "ipython3",
   "version": "3.7.6"
  },
  "papermill": {
   "duration": 16.400483,
   "end_time": "2020-10-13T07:52:25.051110",
   "environment_variables": {},
   "exception": null,
   "input_path": "__notebook__.ipynb",
   "output_path": "__notebook__.ipynb",
   "parameters": {},
   "start_time": "2020-10-13T07:52:08.650627",
   "version": "2.1.0"
  }
 },
 "nbformat": 4,
 "nbformat_minor": 4
}
